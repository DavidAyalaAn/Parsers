{
 "cells": [
  {
   "cell_type": "markdown",
   "id": "e7c340eb",
   "metadata": {},
   "source": [
    "# Module Import"
   ]
  },
  {
   "cell_type": "code",
   "execution_count": 1,
   "id": "3c88423a",
   "metadata": {},
   "outputs": [],
   "source": [
    "import google.generativeai as genai\n",
    "import os"
   ]
  },
  {
   "cell_type": "markdown",
   "id": "43f99a6a",
   "metadata": {},
   "source": [
    "# Model Initialization"
   ]
  },
  {
   "cell_type": "code",
   "execution_count": null,
   "id": "6d94ef87",
   "metadata": {},
   "outputs": [],
   "source": [
    "genai.configure(api_key='AI...')\n",
    "model = genai.GenerativeModel(\n",
    "    model_name='gemini-1.5-flash',\n",
    "    generation_config=genai.types.GenerationConfig(\n",
    "        temperature=0.0,\n",
    "        max_output_tokens=None\n",
    "    )\n",
    ")"
   ]
  },
  {
   "cell_type": "markdown",
   "id": "83f11057",
   "metadata": {},
   "source": [
    "# Interaction"
   ]
  },
  {
   "cell_type": "markdown",
   "id": "07bb5fa9",
   "metadata": {},
   "source": [
    "## Simple Call"
   ]
  },
  {
   "cell_type": "code",
   "execution_count": 3,
   "id": "99abdab9",
   "metadata": {},
   "outputs": [
    {
     "data": {
      "text/plain": [
       "'There are more stars in the universe than grains of sand on all the beaches on Earth.\\n'"
      ]
     },
     "execution_count": 3,
     "metadata": {},
     "output_type": "execute_result"
    }
   ],
   "source": [
    "\n",
    "response = model.generate_content('What is a fun fact about space?')\n",
    "response.text\n"
   ]
  },
  {
   "cell_type": "markdown",
   "id": "ea8173e7",
   "metadata": {},
   "source": [
    "## File Upload"
   ]
  },
  {
   "cell_type": "code",
   "execution_count": 24,
   "id": "d79ef986",
   "metadata": {},
   "outputs": [
    {
     "data": {
      "text/plain": [
       "'\"A-1 Deluxe Floater\",\"A luxury land-speeder from Mobquet plagued by bad reviews. Its drawbacks of poor ventilation and odd interior space were offset by affordability and reliability. It was available with optional Corellian leather interior.\"\\n\"A-10\",\"See A-9 Vigilance Interceptor.\"\\n\"A-121\",\"An antiquated variety of astrogation plotter that, if used in lieu of a more modern nav computer, took four times as long to calculate hyperspace trips.\"\\n\"A14\",\"A one-being repulsor disk manufactured by Aratech, used for construction and utility work.\"\\n\"A-17\",\"See Alpha (A-17).\"\\n\"A-1707\",\"See Able-1707.\"\\n\"A-175\",\"An Action IV transport captained by Joh Steen that was seized by the privateer vessel Far Orbit.\"\\n\"A-I Deluxe Floater\",\"A luxury land-speeder from Mobquet plagued by bad reviews. Its drawbacks of poor ventilation and odd interior space were offset by affordability and reliability. It was available with optional Corellian leather interior.\"\\n\"Al series business droid\",\"Developed by Genetech during the Old Republic, this droid was eventually replaced by the A2 accounting droid.\"\\n\"A-I shuttle\",\"A variety of personal shuttles used by the admirals of the Galactic Republic\\'s Starfleet during the Clone Wars for transit to and from their flagships.\"\\n\"A2, A3\",\"The designations of Arakyd probots guarding Warlord Zsinj\\'s facilities on Xartun.\"\\n\"A2 accounting droid\",\"A hemispherical number-crunching business droid manufactured by Genetech.\"\\n\"A-24 Sleuth\",\"A model of lightly armed two-person scout ship developed by the Incom Corporation, the A-24 Sleuth was fast and agile for a ship less than 20 meters long.\"\\n\"A-26\",\"See Maze.\"\\n\"A280 blaster rifle\",\"A standard-issue long-arm used by Rebel Alliance troopers at Echo Base on Hoth. The A280 blaster rifle was highly accurate with a good range. It was favored by snipers in hostile environments.\"\\n\"A2-B4 (Aytoo Beefour)\",\"An A2 accounting droid formerly owned by the wealthy Lord Anstaal, and later by rancher Sybegh Abya.\"\\n\"A2-ZP (Zip)\",\"Nicknamed Zip, this A2 accounting droid was owned by Rebel agent Jhorag Corconnan.\"\\n\"A3AA personal defense module\",\"A Corellian Technologies defense suit used by a few Imperial-contracted bounty hunters. It emitted clouds of courenth and ves gas that served to dissipate incoming blasterfire.\"\\n\"A-9 Vigilance Interceptor\",\"emitted clouds of courenth and ves gas that served to dissipate incoming blasterfire.\"\\n\"A-3DO (ThreeDee)\",\"A multitalented service droid owned by Jedi Andur Sunrider, ThreeDee was a crack mechanic and copilot who witnessed his master\\'s death at the hands of a criminal gang headed by Great Bogga the Hutt some 4,000 years before the Battle of Yavin. The droid then aided Andur\\'s wife, Nomi, as she reluctantly trained to learn the ways of the Jedi.\"\\n\"A-3PO\",\"An affable protocol droid used by Rebel agent and artifacts dealer Retter Lewis aboard the Cal Ambre.\"\\n\"A-3TO\",\"The green-plated protocol droid that greeted incoming visitors to the Yard, Syndicate One headquarters on Valgauth.\"\\n\"A-30\",\"See Sull.\"\\n\"A4-D (Ay-Four-Dee)\",\"A droid doctor overseer that served General Grievous at his lair on the Vassek moon.\"\\n\"A5 assassin droid\",\"A repurposed assassin droid programmed to act as a bouncer at the Farrimmer Café at the Mynock 7 Space Station. It was destroyed in bounty hunter crossfire.\"\\n\"A-5DS\",\"A modified protocol droid that helped Rebel Alliance recruiter Rith Tar\\'ak make contact with the native Ebranites on Ebra.\"\\n\"A-5 envirosuit\",\"The most popular of the Malik Technologies environmental suits found on Goroth, it provided full protection from radiation and temperature extremes.\"\\n\"A68 Market\",\"The informal name given to one of the largest black-market networks aboard the original Death Star, found in city sprawl North 7:A68. It was overseen by Lieutenant Gorsick Dommaro.\"\\n\"A-6 Interceptor\",\"A small starfighter armed with paired turbolaser cannons produced during the last decades of the Galactic Republic.\"\\n\"A-77\",\"One of many assassin droids that accompanied Asajj Ventress to Phindar to intercept Yoda on the Jedi Master\\'s way to Vjun during the Clone Wars. Yoda easily destroyed the droid.\"\\n\"A99 Aquata Breather\",\"A compact breathing apparatus used by Jedi Knights in underwater, vacuum, and poisonous environments. Tiny oxygen tanks and filter units provided vital gases, which could be customized for non-oxygen-breathing species.\"\\n\"A-89\",\"A quadrant of Galactic City on Coruscant that housed the Coruscant Security Force during the Clone Wars, it housed the Galactic Alliance Guard decades later during the conflict between the Corellian Confederation and the Galactic Alliance.\"\\n\"A-9 Vigilance Interceptor\",\"An Imperial short-range starfighter that was introduced about six years after the Battle of Endor, soon after Grand Admiral Thrawn\\'s defeat. The A-9 Vigilance Interceptor traded shields and hyperdrive for speed. Faster than a TIE interceptor, it was about equal in speed to an A-wing fighter. Imperial forces used its forward-firing laser cannons for hit-and-run attacks on hardened New Republic installations. However, overall performance was less than hoped for because of its limited maneuverability and relatively weak hull. The A-9 saw service in the New Republic Fleet, as well as local planetary defenses following the Yuuzhan Vong invasion. It was eventually followed by the A-10.\"\\n\"A99 Aquata Breather\",\"A compact breathing apparatus used by Jedi Knights in underwater, vacuum, and poisonous environments. Tiny oxygen tanks and filter units provided vital gases, which could be customized for non-oxygen-breathing species.\"\\n\"A9G archive droid\",\"An outdated and recalled line of humanoid-shaped information technology droids from Industrial Automaton that the Rebel Alliance acquired at a discount and repurposed for military administrative and intelligence use.\"\\n\"AA-I\",\"Manufactured by Synthe Tech, this was the common verbobrain processing module found within cognitive units of 3PO protocol droids.\"\\n\"A-A5 speeder truck\",\"A variety of heavy repulsorlift vehicle manufactured by Trast Heavy Transports, often used by the Rebel Alliance for military transport.\"\\n\"AA-589\",\"The designation of Luke Skywalker\\'s X-wing fighter during the rise of Grand Admiral Thrawn, five years after the Battle of Endor. Prolonged exposure to R2-D2\\'s idiosyncrasies led the X-wing to develop a near-counterpart-level relationship with the astromech, but left the vessel virtually incompatible with other droids.\"\\n\"AA-9 freighter\",\"A massive starfreighter manufactured on Botajef, 390 meters long, it could transport cargo, passengers, or a mix of both. AA-9 freighters were occasionally pressed into service as no-frills passenger liners; the Jendirian Valley, for instance, ferried Anakin Skywalker and Senator Padmé Amidala from Coruscant to Naboo during the Separatist crisis.\"\\n\"AAA-2\",\"A later-model SyntheTech verbobrain developed during the time of the New Republic.\"\\n\"Aabe, Peita\",\"A former Imperial officer serving under Soontir Fel as part of the Chiss Expansionary Defense Fleet. During the war against the Yuuzhan Vong, Aabe allowed Luke Skywalker access to the Chiss library on Csilla as a resource during Skywalker\\'s search for the living planet Zonama Sekot. Wishing to protect Chiss interests, Aabe conspired to eliminate Fel\\'s family, but Jacen Solo helped uncover his treachery.\"\\n\"AAC-I speeder tank\",\"A design developed by SoroSuub Corporation and foolishly lost to the Rebel Alliance and Naboo Royal Security Forces, the AAC-1 was a fast and durable anti-aircraft combat vehicle armed with laser, particle beam, and missile weapons.\"\\n\"Aach\",\"The code name for one of Bail Organa\\'s top agents in the early days of the Rebel Alliance. Aach informed Senator Garm Bel Iblis of Organa\\'s discovery of the Death Star project. This news delayed a public appearance by Bel Iblis, thwarting an assassination attempt on the Senator.\"\\n\"AAD-4\",\"A line of hulking, humanoid assault droids used by Arakyd Industries, they were dispatched into the Vulpter-based offices of rival Viper Sensor Intelligence Systems in what amounted to a very hostile corporate takeover shortly before the Clone Wars.\"\\n\"Aaeton\",\"The government of Aaeton had special permission to allow its citizens to visit the normally off-limits neighboring world of Ragoon VI, half a day\\'s hyperspace journey away.\"\\n\"AA-12X\",\"A model of verbobrain designed for the AD series of armory droids.\"\\n\"AA-23, Detention Block\",\"The block that held Princess Leia Organa aboard the first Death Star. Specifically, she was imprisoned in cell 2187 of level five, Detention Block AA-23.\"\\n\"Aaida\",\"This woman and her husband, Lootra, lived on Nar Shaddaa during the years following the Jedi Civil War. The Exchange kidnapped Aaida and held her hostage in an attempt to force Lootra to become a member. He refused, and eventually asked the Jedi Exile to help him free her.\"\\n\"Aak, Senator Ask\",\"The Gran Senator from Malastare, Ask Aak filled the vacancy left by the untimely death of Senator Aks Moe during the Separatist crisis. Dug activists seeking equal rights on Malastare protested Aak\\'s appointment. The hawkish Aak advocated proactive measures against the Separatists, and was vocally critical of the Jedi Order\\'s inability to keep the peace. When the clone army was discovered on Kamino, Aak immediately championed its use.\"\\n\"Aakuan\",\"Easily provoked Corellian anarchists who believed that all sentient beings had the right to govern themselves and that no authority should invade anyone\\'s personal freedom. The Aakuan were dangerous only to those who invaded their territories. Their extremely independent views found some popularity among Corellians. Their name derived from the Old Corellian term aa\\'kua, which translated into \\'respecting space\\'.\"\\n\"Aalagar\",\"An isolated subspecies of Bith living on remote islands on Clak\\'dor VII. They recorded their genealogies through a form of knot tying, a practice that later evolved into more advanced record keeping and communication. When translated through Aalagar symbology, a prophetic Sith tassel that Jacen Solo uncovered read, \\'He will ruin those who deny justice\\'.\"\\n\"Aalto\",\"A youngling friend of Bruck Chun in the Jedi Temple, Aalto would often join in teasing young Obi-Wan Kenobi.\"\\n\"Aalun, Syron\",\"One of a trio of famous Gand ruetsavii, or observers, who were sent to observe Rogue Squadron pilot Ooryl Qrygg\\'s life and determine his worthiness to become janwuine. The highest possible honor in the communal Gand society, janwuine involved the right of an individual to speak of her- or himself in the first person and to use personal pronouns in conversation. The ruetsavii not only observed Qrygg\\'s activities but also participated fully in the squadron as fighter pilots and undercover operatives.\"\\n\"Aama, Major\",\"A New Republic Intelligence agent who was one of Hiram Drayson\\'s senior facilitators within Alpha Blue.\"\\n\"AAP blaster box\",\"A series of strap-on laser weapons that could be affixed to droids without extensive reprogramming. Developed by Briletto Company, the AAP-II saw use in the BL series Battle Legionnaires, while the AAP-IV models were slated for use on Z-X3 battle droids.\"\\n\"Aar\\'aa\",\"Chameleon-like intelligent reptilian aliens also known as skin-changers. Aar\\'aa hailed from Aar, and they often were involved in Hutt ventures.\"\\n\"Aargau\",\"The third planet in the Zug system. A spectacularly wealthy center of banking and commerce among the Core Worlds, Aargau attempted to remain neutral in the many galactic wars. Republic, Separatist, Imperial, and Rebel treasures were stored within well-protected vaults. Some sections of Aargau\\'s sprawling cities were laid out in levels allocated according to function. The InterGalactic Banking Clan maintained a massive pyramidal arcology on Aargau. The planet\\'s laws and culture revolved entirely around banking. There were three main crimes punishable by immediate execution: (1) unlawful removal of precious metals; (2) unlawful possession of weapons by non-natives (conversely, it was unlawful for citizens to be unarmed); and (3) willfully conspiring to defraud, discredit, or deceive the Bank of Aargau.\"\\n\"Aargau Medical Observer Corps\",\"A neutral organization active during the Clone Wars. Both the Separatists and the Old Republic tolerated the AMOC, allowing members to visit war-torn worlds to investigate any atrocities that might have been committed.\"\\n\"Aargonar\",\"A relatively insignificant, sparsely populated desert world and battle site of the Clone Wars. Jedi Master A\\'Sharad Hett-bolstered by Bultar Swan, Ki-Adi-Mundi, and Anakin Skywalker-led the defense of Republic forces against the Separatist attack. The planet was known to host numerous Sarlacc specimens. Years later, during the Galactic Civil War, Aargonar\\'s third moon housed a Rebel base.\"\\n\"Aaris III\",\"A jungle planet in the Kathol sector, home to a vanished ancient civilization and possibly artifacts employing DarkStryder technology.\"\\n\"Aarn\",\"A heretical Shamed One, this member of the lowest caste of Yuuzhan Vong lived on Coruscant after its transformation to Yuuzhan\\'tar.\"\\n\"Aaroun\",\"Powerful golden-furred sentient carnivores, the Aaroun were long bred for gladiator combat by the Viis Empire.\"\\n\"Aarrba the Hutt\",\"A kindhearted Hutt who owned a starship dock and repair bay in Cinnagar on Koros Major about 5,000 years before the Galactic Civil War. The curiously charitable Hutt befriended the hyperspace explorers Gav and Jori Daragon, extending them credit to cover their ever-increasing debt. When Gav and Jori were forced to flee from lenders and stole the vessel Starbreaker 12 from Aarrba\\'s dock, the Hutt felt betrayed. During the Great Hyperspace War that erupted due to Gav and Jori\\'s explorations, Gav led Sith forces to Cinnagar. Aarrba chastised Gav, and was killed by Sith Massassi warriors who believed the Hutt was attacking Daragon. After the Sith forces were defeated, Jori reopened Aarrba\\'s repair dock to preserve his memory.\"\\n\"AAT (armored assault tank)\",\"The front line of Trade Federation armored infantry divisions. A crew of battle droids drove the battle tank and operated its array of laser and projectile weaponry. The AAT\\'s turret-mounted primary laser cannon had long-range destructive capability; it was bracketed by a pair of pylon-mounted secondary laser cannons. A pair of forward-facing short-range blaster cannons rounded out the AAT\\'s energy-weapon complement. Contained in the forward edge of the tank\\'s armored repulsorlift shroud were six energized shell projectile launchers capable of delivering specialized payloads. The tank contained three separate magazines from which to draw warheads: high-energy shells encased in a cocoon of plasma for incredible speed and penetration power, specialized armor-piercing warheads, and high-explosive \\'bunker busting\\' shells. Built by Baktoid Armor Workshop, the AAT saw heavy use in the Battle of Naboo and the Clone Wars.\"\\n\"Aavman Extravagance\",\"The manufacturer of such luxury vessels as the 11-S space yacht.\"\\n\"aay\\'han\",\"A Mandoa word describing a bittersweet time of remembrance and celebration after the death of a family member. As a rule, Mandalorians who died were not buried, something reserved for the Mandalor. Most individuals were cremated (unless the body could not be recovered), and their ashes were strewn to the wind. To preserve their memories, deceased Mandalorians were remembered in nightly recitals of their names, an act that was believed to keep alive their existence as well as their memory. Sometimes the personal effects of deceased individuals were kept as well, especially their body armor.\"\\n\"Aay\\'han\",\"The name given to the Deep Water-class freighter purchased by Kal Skirata and the clone commando Ordo on the planet Agamar during the Clone Wars. Skirata chose the name-a Mandoa word for a particular state of mind-to honor the bittersweet memories of his adoptive father, Munin, and the clone named Dov who died while training.\"\\n\"AB-1 \\'floatcoach\\'\",\"An early prototype landspeeder that predated the more modern designs of the New Order. Palpatine kept several of these outdated vehicles within the hangar bay of his store-house facility in Mount Tantiss.\"\\n\"AB-4\",\"A protocol droid programmed by the Rebel Alliance to serve as supply officer and bureaucrat for Advanced Base Baskarn.\"\\n\"AB-6\",\"A worker droid with a female personality that was effectively \\'adopted\\' into the Farn family on Tatooine.\"\\n\"Abaarian\",\"The source of water shipments hijacked by pirates during the Dark Nest crisis. Jedi Knights Tesar Sebatyne and Lowbacca investigated these incidents.\"\\n\"Abadaner\",\"A Corellian dissident arrested by the Galactic Alliance Guard on Coruscant based on a hunch by Ben Skywalker.\"\\n\"A\\'baht, General Etahn\",\"Assigned as commander of the New Republic\\'s Fifth Fleet because of experience leading his native Dornean Navy against Imperial forces, A\\'baht had a leathery face that flushed purple and eye folds that swelled and fanned out. His flagship was the fleet carrier Intrepid, and he declared the fleet operational following the live-fire exercise Hammerblow. Defying specific orders from Princess Leia Organa to stay out of the unexplored Koornacht Cluster, he sent the survey ship Astrolabe to Doornik-1142, hoping to get good military intelligence. Yevethan forces, which had been roiling the sector and undertaking xenophobic extermination campaigns, destroyed the Astrolabe. Ambassador Nil Spaar, viceroy of the Duskhan League, declared the incident an act of aggression by the New Republic and prepared to go to war. General A\\'baht then led the deployment of the Fifth Fleet to the cluster and blockaded Doornik-319, where the Yevetha were mounting their forces. When the fleet came under withering attack, General A\\'baht was forced to withdraw. Princess Leia Organa Solo then relieved him of command and substituted her husband, Han Solo.\"\\n\"Aban\",\"An Imperial Navy officer, he oversaw the construction of an Imperial garrison on the watery world of Sedri when he held the rank of commander. Aban entered into an uneasy alliance with native renegade Karak in a bid to control the mysterious power source called the Golden Sun. Ultimately thwarted by Rebel agents, Aban emerged years later as captain of the Star Destroyer Bellicose in Grand Admiral Thrawn\\'s forces.\"\\n\"Abano\",\"A poor farmer on Aruza, he was the father of Manaroo, a tattooed dancing girl who eventually married the bounty hunter Dengar.\"\\n\"Abanol\",\"A toxic world, second from the sun in the Beshqek system, within the Deep Core. the man\\'s family for 10 generations and was considered by Xizor to be one of his most prized possessions.\"\\n\"Ab\\'Bshingh\",\"The homeworld of the Farang and Waroot species.\"\\n\"ABC scrambler\",\"A projectile weapon used by bounty hunters to cause severe disorientation. The Aural-Biological-Chemical scrambler fired a pod that emitted a broad spectrum of overwhelming sensory stimuli.\"\\n\"Abdi-Badawzi\",\"A Twilek smuggling kingpin based on Socorro. An escaped slave and exile from Ryloth, Abdi-Badawzi was notable for his jet-black skin.\"\\n\"Abek\\'s Station\",\"A shadowport operated by the Nikto pirate Nim Abek on the Sisar Run.\"\\n\"Aber\",\"A red dwarf star that was the primary star of the Abron system, containing the planet Alpheridies.\"\\n\"Abersaith Canyon\",\"An immense natural formation on Corulag that contained an exotic bird preserve, the Abersaith Aviary, home to more than 20 million species of avians.\"\\n\"Abesmi\",\"A remote island on the planet Kalee that served as an altar of worship for the native Kaleesh, who venerated General Grievous after his apparent death in the Huk War.\"\\n\"Abhean\",\"This planet was home to the orbital construction site for the famed Jedi starship Chu\\'unthor.\"\\n\"Abin-Ral-Xufush\",\"A ruthless Tiss\\'shar trader-turned-pirate who founded what became the Shadow Wing group of pirates.\"\\n\"Abinyshi\",\"Slender intelligent reptilian aliens from Inysh with forked tails. Their population suffered after the Empire discovered valuable resources on their planet.\"\\n\"Ablajeck sector\",\"An area of space that together with Moddell and Spar sectors made up the Inner Zuma region.\"\\n\"Able-1707\",\"A Jango Fett-template clone trooper serving under Shaak Ti during the Clone Wars, unit A-1707 was stranded on an uncharted planet for over 20 years. He later assisted Rebel forces, including Luke Skywalker, when the Alliance attempted to establish a post on his planet. Adopting the more personalized name of Able, this trooper later served in the Alliance, helping in a mission to infiltrate an Imperial prison on Kalist VI.\"\\n\"Able-472\",\"One of the Muunilinst 10 clone troopers who worked with General Obi-Wan Kenobi to defeat Durge and his IG lancer droid forces.\"\\n\"Ables\",\"A Corellian trained in emergency procedures, she worked as a transportation engineer on Centerpoint Station in orbit between Talus and Tralus during the years following the war with the Yuuzhan Vong.\"\\n\"Ab\\'Lon, Tereb\",\"A Bothan Rebel agent, he was incapacitated by Imperial agents and thrown to the Sarlacc in the Pit of Carkoon. He was survived by his astromech droid, R2-Z1, who carried vital information for the Alliance.\"\\n\"abo\",\"Old Imperial slang for native inhabitants of a planet, often used in a derogatory manner.\"\\n\"Abo Dreth\",\"A nitrogen-rich world in the Corporate Sector system of the same name whose small population included many Rebel Alliance sympathizers.\"\\n\"Abolisher\",\"An Imperial Nebulon-B escort frigate.\"\\n\"Abominor\",\"A mysterious and ancient species of sentient droids that waged war with the Silentium, another mechanical species. Their struggle in the distant past was said to have nearly wiped out all organic life in their native galaxy, and thus they were exiled. Some Abominors made it to this galaxy, and there were a few scattered accounts of sightings. The Great Heep of Biitu is probably the best-known specimen of Abominor life.\"\\n\"Abonshee\",\"The native name for planet Masterhome, a lush forested planet inhabited by a sentient lizard species in the Fakir sector. Reekene\\'s Roughnecks, a Rebel Alliance group, visited Abonshee to make diplomatic contact with the Anointed People during the Galactic Civil War.\"\\n\"Aboukir\",\"A New Republic warship destroyed during the Battle of N\\'zoth.\"\\n\"Abran system\",\"Site of the Abran Belt and the B\\'Knos mining colony, which was attacked by Ssi-ruuvi invaders.\"\\n\"Abrax\",\"An aquamarine cognac with spicy vapors. The best vintages were produced during the Old Republic.\"\\n\"Abraxas\",\"An abandoned world of spent mines, abandoned factories, and derelict ships, it served as a pirate base after the Battle of Endor.\"\\n\"Abraxin\",\"This planet in the Tion Cluster was home to the marsh haunts, a species of Force-sensitive creatures.\"\\n\"Abregado Moocher\",\"See Moocher.\"\\n\"Abregado-rae\",\"A manufacturing- and trade-oriented planet in the Abregado system with a onetime primitive spaceport. After the birth of the New Republic, the spaceport cleaned up its act-at least to the untrained eye. Beneath the spit-shine and polish, the spaceport catered to smugglers and other disreputable types. An oppressive government allied to the New Republic ruled Abregado-rae\\'s population of 40 million. Some nine years after the Battle of Yavin, the Abregado-rae leadership cut off all supplies to a clan of rebellious hill people, which created opportunities for ambitious smugglers. The planet was conquered by the Yuuzhan Vong during their invasion of the galaxy.\"\\n\"Abregado system\",\"A planetary system located in the Borderland Regions, on the edge of the Core Worlds. During the Clone Wars, Plo Koon and his forces scouted the Abregado system for any signs of the mysterious Separatist vessel Malevolence. For years, the Abregado system was a militarized zone that separated the New Republic from the remnants of the Empire; it was controlled by neither but influenced by both. A vast and complex manufacturing infrastructure linked the system\\'s planets, and the goods produced there were vitally important to the well-being of the New Republic.\"\\n\"Abric\",\"A starship thief who worked with Niles Ferrier during the Thrawn crisis.\"\\n\"Abridon\",\"A world of verdant mountains and emerald-green fields laced with shimmering rivers. It was allied to the Rebellion after the Battle of Hoth, only to be brutally recaptured by the Empire. Luke Skywalker was taken prisoner during the conquest, and rescued by Imperial defector Brenn Tantor.\"\\n\"Abrihom\",\"A Rebel Alliance supply station platform destroyed during the Galactic Civil War.\"\\n\"Abrion sector\",\"A \\'bread basket\\' of sorts for the galaxy, the Abrion sector was home to over 200 agriworlds. Its secession during the Separatist crisis was a great blow to the Galactic Republic. The sector included sector capital Abrion Major as well as the planet Ukio, which became one of the top five producers of foodstuffs for the New Republic. When Ukio was captured by Grand Admiral Thrawn, it had serious repercussions for the sector.\"\\n\"Abrogator\",\"An Imperial Dreadnaught dispatched to Saloch 2 to put down the Reslian Purge. Soontir Fel served aboard the Abrogator as part of the 37th Imperial Fighter Wing.\"\\n\"Absit\",\"This planet, homeworld of the Yatir species, was once subjugated by the Empire.\"\\n\"Absolutes\",\"The secret police of the Civilized, the totalitarian former rulers of Apsolon. The Absolutes used torture to enforce the aims of the wealthy minority. Their motto was: \\'Absolute justice calls for absolute loyalty.\\' Despite their attempts, the Absolutes were unable to stop the acts of industrial sabotage committed by the Workers. Following the reform of Apsolon\\'s government, the Absolutes went underground.\"\\n\"Absolutists\",\"Staunchly independent Selonians who advocated the use of Selonia\\'s planetary repulsors to secede from the New Republic. The Sacorrian Triad, backed by the New Republic, was able to dissolve the Absolutists.\"\\n\"absorbmat\",\"Small, liquid-absorbent surface used as a coaster for beverages.\"\\n\"Ab\\'Ugartte\",\"A reclusive and unfriendly alien species from parts unknown that counted Jak Sazz among its members.\"\\n\"Abya, Sybegh\",\"A breedtash farmer on Sedsia who was also the principal Rebel Alliance contact on the planet, assisted by accounting droid A2-B4.\"\\n\"Abyss, Naboo\",\"The general name used for the labyrinthine system of seas and waterways that began on Naboo\\'s surface and permeated to its core. Though much of the water was placid and cool, dangerous pocket currents were created when fiery blasts from the planet\\'s core heated the water to high temperatures. Extreme caution had to be used when traveling in the honeycomb-like passways of the inner planet given the massive creatures that lurked there.\"\\n\"Abyss, the\",\"A common term that described many seemingly unfathomable and forbidding locales across the galaxy, including a deeply excavated mine on Vasha said to house the Vashan god of decay; a deep vertical slice of Imperial City that once contained the New Republic Intelligence agency code-named Mirage; and a particularly treacherous Podrace course on Ord Ibanna.\"\\n\"Abyssin\",\"This primitive and violent species inhabited the occasionally fertile planet Byss in the binary star system of Byss and Abyss. (Byss had the same name as a distant planet that was used as a retreat by Emperor Palpatine.) At about 2 meters tall, the hulking, humanoid Abyssin had long limbs and a single large eye dominating greenish tan foreheads. Because they healed quickly and could regenerate any body part, this nomadic species condoned a high degree of physical violence since the consequences were short lasting. Offworld, they were often hired as petty thugs.\"\\n\"Abyssin grafting patch\",\"A medical supply from Kirgalis Pharmaceutical Exports that used specially harvested regenerative cells from Abyssin biochemistry to promote rapid growth of new skin cells.\"\\n\"ACI surveillance droid\",\"A mobile and semi-intelligent spherical surveillance holoc-am droid nicknamed the spy-eye.\"\\n\"Academy, the\",\"A Galactic Republic-era elite educational and training institution that turned unseasoned youths into highly trained members of the Exploration, Military, and Merchant Services, the Academy had numerous campuses spread across the galaxy. Under Emperor Palpatine\\'s New Order, the Academy became a training ground for nonclone Imperial officers, especially Raithal Academy in the Core region. Under the New Republic, the Academy was rebuilt to regain past glory.\"\\n\"Acamma, Veril\",\"A military leader on Sucharme, she led an armed resistance movement against the invading Trade Federation that eventually drove it off the planet.\"\\n\"ACC-7\",\"This series of small assassin droids, developed by Arakyd Industries, was popular among Imperial law enforcement and undercover operatives. The hovering spherical droids contained four retractable arms that extended to reveal heavy-duty vibroblades. Use of the ACC-7 was outlawed by the New Republic, but statutes against them were loosened so they could be used against the invading Yuuzhan Vong.\"\\n\"accarrgm\",\"A strong liquor favored by Wookiees.\"\\n\"acceleration chair, acceleration couch\",\"A generic term for g-force-absorbing seats found aboard starships.\"\\n\"acceleration compensator\",\"A device that generated a type of artificial gravity and helped neutralize the effects of accelerating to high speed aboard medium- and larger-sized spacecraft such as the Millennium Falcon.\"\\n\"acceleration facility\",\"A term describing various facilities constructed by the hives of the Colony to assist with the process of turning beings into Joiners. Many of these structures were found on the planets of the Utegetu Nebula, after the Colony\\'s hives were relocated there following the Qoribu crisis. Most beings brought to these facilities were criminals such as smugglers and pirates, who could be turned to work for the Gorog.\"\\n\"acceleration straps\",\"These passenger-safety harnesses were usually built into the seats of spacecraft to restrain passengers during takeoffs, landings, and violent maneuvers.\"\\n\"Acceptance\",\"A Republic Consular-class cruiser that served as Jedi Master Dooku\\'s flagship during the A-Cee mission to rid Galidraan of Mandalorian forces. The Acceptance was destroyed in battle in the Yinchorri system, though crew members Maoi Madakor and Antidar Williams were able to escape.\"\\n\"Access Chute\",\"This kilometers-long pathway snaked through a grid of decaying cities and tall docking towers on the spaceport moon Nar Shaddaa. Its entrance masked by a bright advertising holoscreen, the Chute led to the repair facility of an old buddy of Han Solo, Shug Ninx.\"\\n\"accipiptero\",\"The largest flying reptile native to Dagobah.\"\\n\"Acclamator-class assault ship\",\"Massive transport ships used by the Grand Army of the Republic during the Clone Wars. These wedge-shaped Republic assault ships were built in secret in the shipyards of Rothana. Though not designed specifically for ship-to-ship combat, Acclamators were more than capable of holding their own against smaller Separatist cruisers. Subsequent models in the series were more focused on planetary bombardment missions. Eventually, they were replaced by more modern and capable Imperial-era warships.\"\\n\"Accolux Township\",\"This Yedagon city was supposedly attacked and destroyed by the Lords of Dismay Flightknife during the civil war that broke out on Adumar. In reality, reports depicting the battle were faked in an effort to keep the Empire from learning that the Adumari had sided with the New Republic.\"\\n\"Accu, Paddy\",\"An older human at the time of the Clone Wars, he served as retreat caretaker in the Lake Country of Naboo. Paddy Accu drove the gondola speeder that brought Padmé Amidala and Anakin Skywalker to the lake retreat.\"\\n\"accu-accelerator\",\"Part of the ignition system found in many starship sublight engine systems.\"\\n\"Accuser\",\"See Emancipator.\"\\n\"Accutronics\",\"A leading droid manufacturer and early forerunner in the marketing of droids to families with young children. It was formerly a subsidiary of Industrial Automaton.\"\\n\"Ace-6\",\"Cybot Galactica\\'s droid brain unit, found aboard the automated TIE/D droid starfighter.\"\\n\"A-Cee\",\"A chrome-plated protocol droid belonging to the Rebel Intelligence agent Candice Ondi. A-Cee\\'s recordings of an Imperial massacre on Sulon convinced Kyle Katarn to join the Rebellion. Programmed to self-destruct if discovered by the Empire, A-Cee detonated aboard an Imperial yacht, killing Governor Donar.\"\\n\"Ace Entertainment Corporation\",\"The parent company of a number of upscale gambling establishments, including the Ace of Sabres on Kluistar.\"\\n\"acertron\",\"This flexible heavy alloy, cryogenically tempered to add strength, was used in the chest carapace of super battle droids.\"\\n\"Ace Squadron\",\"Pash Cracken\\'s A-wing squadron that served in the Battle of Thyferra.\"\\n\"Acey\",\"A thief and friend of Dexter Jettster.\"\\n\"Ac\\'fren Spur\",\"A little-known \\'side\\' path of the Sisar Run that connected the Si\\'Klaata Cluster with the Weequay homeworld of Sriluur.\"\\n\"Acherin\",\"Jedi Master Garen Muln led Republic forces on Acherin during the devastating fighting that occurred there in the Clone Wars. When the Empire came to power, Separatist holdouts formed a short-lived underground resistance on Acherin. Obi-Wan Kenobi, Ferus Olin, and Trever Flume briefly worked with the resistance during their time on Acherin.\"\\n\"Achillea\",\"A semi-tropical world of great beauty that was one of the principal planets controlled by House Cadriaan in the Tapani sector.\"\\n\"Achtnak Turbine Station\",\"A TIE fighter launch base hidden within the atmosphere of the gas giant Yavin. After the destruction of the first Death Star, Baron Orman Tagge led an operation there that harassed the Rebels blockaded on Yavin 4. The station used a massive turbine to open a \\'storm corridor\\' within Yavin\\'s turbulent atmosphere, allowing the launch and receipt of TIE fighters. Luke Skywalker was able to destroy the station.\"\\n\\n'"
      ]
     },
     "execution_count": 24,
     "metadata": {},
     "output_type": "execute_result"
    }
   ],
   "source": [
    "file_path = './data/pdf/partitions/The Complete Star Wars Encyclopedia - Volume I_part001.pdf'\n",
    "\n",
    "#File preparation\n",
    "upload_file = genai.upload_file(path=file_path)\n",
    "\n",
    "# prompt formatting\n",
    "prompt = 'can you tell me what is this document about?'\n",
    "\n",
    "response = model.generate_content(\n",
    "    [prompt, upload_file]\n",
    ")\n",
    "\n",
    "response.text"
   ]
  },
  {
   "cell_type": "markdown",
   "id": "d97d8f9d",
   "metadata": {},
   "source": [
    "## PDF Parser"
   ]
  },
  {
   "cell_type": "code",
   "execution_count": 32,
   "id": "19ed82af",
   "metadata": {},
   "outputs": [],
   "source": [
    "import csv"
   ]
  },
  {
   "cell_type": "code",
   "execution_count": 36,
   "id": "f78b10a8",
   "metadata": {},
   "outputs": [],
   "source": [
    "# prompt formatting\n",
    "prompt = '''\n",
    "Identify all the terms and definitions in the uploaded file.\n",
    "To make the distinction you considere:\n",
    "    - The term is followed by its definition.\n",
    "    - The term has a bold font and the definition has a normal font.\n",
    "    - The term can be composed for more than one word.\n",
    "    - The definition sometimes can start with a lowercase letter.\n",
    "    - The description of the last term in a page could continue in the next page.\n",
    "    - The images in most of the cases has a description, those must not be considered.\n",
    "    - Some terms references another term with the formart TERM + \" see \" + REFERENCED_TERM, example \"A-17\", \"See Alpha (A-17)\".\n",
    "    - If you find quotes in the PDF use two quotes, example \"\"this is a quoted text\"\".\n",
    "    - Only respond with the formated text.\n",
    "    \n",
    "Return the information in a csv format like this:\n",
    "    \"term1\",\"definition1\"\n",
    "    \"term2\",\"definition2\"\n",
    "'''"
   ]
  },
  {
   "cell_type": "code",
   "execution_count": null,
   "id": "3997bb21",
   "metadata": {},
   "outputs": [],
   "source": [
    "path = './data/pdf/partitions/'\n",
    "out_file_name = \"enciclopedia.csv\"\n",
    "for file in os.listdir(path):\n",
    "    upload_file = genai.upload_file(path=os.path.join(path,file))\n",
    "    print(file)\n",
    "    response = model.generate_content(\n",
    "        [prompt, upload_file]\n",
    "    )\n",
    "\n",
    "    csv_data_string = response.text.strip('\\n')\n",
    "\n",
    "    try:\n",
    "        with open(out_file_name, 'a', newline='', encoding='utf-8') as file:\n",
    "            file.write(csv_data_string)\n",
    "        \n",
    "    except IOError as e:\n",
    "        print(f\"Error writing file {out_file_name}: {e}\")\n",
    "        \n",
    "print(f\"\\nCSV data successfully written to {out_file_name}\")\n",
    "    "
   ]
  },
  {
   "cell_type": "code",
   "execution_count": 31,
   "id": "43e76ec7",
   "metadata": {},
   "outputs": [],
   "source": [
    "out_file_name = \"enciclopedia.csv\"\n",
    "\n",
    "#File preparation\n",
    "#upload_file = genai.upload_file(path=file_path)\n",
    "\n",
    "csv_data_string = '\"aaaa\",\"pruebaaaa\"'\n",
    "try:\n",
    "    with open(out_file_name, 'a', newline='', encoding='utf-8') as file:\n",
    "        file.write(csv_data_string)\n",
    "    \n",
    "except IOError as e:\n",
    "    print(f\"Error writing file {out_file_name}: {e}\")\n",
    "\n",
    "\n",
    "\n"
   ]
  },
  {
   "cell_type": "code",
   "execution_count": 3,
   "id": "b52accd0",
   "metadata": {},
   "outputs": [
    {
     "data": {
      "text/plain": [
       "'./data/pdf/partitions/otropath/myfilename.pdf'"
      ]
     },
     "execution_count": 3,
     "metadata": {},
     "output_type": "execute_result"
    }
   ],
   "source": [
    "import os\n",
    "os.path.join('./data/pdf/','partitions','otropath','myfilename.pdf')"
   ]
  },
  {
   "cell_type": "code",
   "execution_count": 25,
   "id": "98ee59f9",
   "metadata": {},
   "outputs": [
    {
     "name": "stdout",
     "output_type": "stream",
     "text": [
      "\"A-1 Deluxe Floater\",\"A luxury land-speeder from Mobquet plagued by bad reviews. Its drawbacks of poor ventilation and odd interior space were offset by affordability and reliability. It was available with optional Corellian leather interior.\"\n",
      "\"A-10\",\"See A-9 Vigilance Interceptor.\"\n",
      "\"A-121\",\"An antiquated variety of astrogation plotter that, if used in lieu of a more modern nav computer, took four times as long to calculate hyperspace trips.\"\n",
      "\"A14\",\"A one-being repulsor disk manufactured by Aratech, used for construction and utility work.\"\n",
      "\"A-17\",\"See Alpha (A-17).\"\n",
      "\"A-1707\",\"See Able-1707.\"\n",
      "\"A-175\",\"An Action IV transport captained by Joh Steen that was seized by the privateer vessel Far Orbit.\"\n",
      "\"A-I Deluxe Floater\",\"A luxury land-speeder from Mobquet plagued by bad reviews. Its drawbacks of poor ventilation and odd interior space were offset by affordability and reliability. It was available with optional Corellian leather interior.\"\n",
      "\"Al series business droid\",\"Developed by Genetech during the Old Republic, this droid was eventually replaced by the A2 accounting droid.\"\n",
      "\"A-I shuttle\",\"A variety of personal shuttles used by the admirals of the Galactic Republic's Starfleet during the Clone Wars for transit to and from their flagships.\"\n",
      "\"A2, A3\",\"The designations of Arakyd probots guarding Warlord Zsinj's facilities on Xartun.\"\n",
      "\"A2 accounting droid\",\"A hemispherical number-crunching business droid manufactured by Genetech.\"\n",
      "\"A-24 Sleuth\",\"A model of lightly armed two-person scout ship developed by the Incom Corporation, the A-24 Sleuth was fast and agile for a ship less than 20 meters long.\"\n",
      "\"A-26\",\"See Maze.\"\n",
      "\"A280 blaster rifle\",\"A standard-issue long-arm used by Rebel Alliance troopers at Echo Base on Hoth. The A280 blaster rifle was highly accurate with a good range. It was favored by snipers in hostile environments.\"\n",
      "\"A2-B4 (Aytoo Beefour)\",\"An A2 accounting droid formerly owned by the wealthy Lord Anstaal, and later by rancher Sybegh Abya.\"\n",
      "\"A2-ZP (Zip)\",\"Nicknamed Zip, this A2 accounting droid was owned by Rebel agent Jhorag Corconnan.\"\n",
      "\"A3AA personal defense module\",\"A Corellian Technologies defense suit used by a few Imperial-contracted bounty hunters. It emitted clouds of courenth and ves gas that served to dissipate incoming blasterfire.\"\n",
      "\"A-9 Vigilance Interceptor\",\"emitted clouds of courenth and ves gas that served to dissipate incoming blasterfire.\"\n",
      "\"A-3DO (ThreeDee)\",\"A multitalented service droid owned by Jedi Andur Sunrider, ThreeDee was a crack mechanic and copilot who witnessed his master's death at the hands of a criminal gang headed by Great Bogga the Hutt some 4,000 years before the Battle of Yavin. The droid then aided Andur's wife, Nomi, as she reluctantly trained to learn the ways of the Jedi.\"\n",
      "\"A-3PO\",\"An affable protocol droid used by Rebel agent and artifacts dealer Retter Lewis aboard the Cal Ambre.\"\n",
      "\"A-3TO\",\"The green-plated protocol droid that greeted incoming visitors to the Yard, Syndicate One headquarters on Valgauth.\"\n",
      "\"A-30\",\"See Sull.\"\n",
      "\"A4-D (Ay-Four-Dee)\",\"A droid doctor overseer that served General Grievous at his lair on the Vassek moon.\"\n",
      "\"A5 assassin droid\",\"A repurposed assassin droid programmed to act as a bouncer at the Farrimmer Café at the Mynock 7 Space Station. It was destroyed in bounty hunter crossfire.\"\n",
      "\"A-5DS\",\"A modified protocol droid that helped Rebel Alliance recruiter Rith Tar'ak make contact with the native Ebranites on Ebra.\"\n",
      "\"A-5 envirosuit\",\"The most popular of the Malik Technologies environmental suits found on Goroth, it provided full protection from radiation and temperature extremes.\"\n",
      "\"A68 Market\",\"The informal name given to one of the largest black-market networks aboard the original Death Star, found in city sprawl North 7:A68. It was overseen by Lieutenant Gorsick Dommaro.\"\n",
      "\"A-6 Interceptor\",\"A small starfighter armed with paired turbolaser cannons produced during the last decades of the Galactic Republic.\"\n",
      "\"A-77\",\"One of many assassin droids that accompanied Asajj Ventress to Phindar to intercept Yoda on the Jedi Master's way to Vjun during the Clone Wars. Yoda easily destroyed the droid.\"\n",
      "\"A99 Aquata Breather\",\"A compact breathing apparatus used by Jedi Knights in underwater, vacuum, and poisonous environments. Tiny oxygen tanks and filter units provided vital gases, which could be customized for non-oxygen-breathing species.\"\n",
      "\"A-89\",\"A quadrant of Galactic City on Coruscant that housed the Coruscant Security Force during the Clone Wars, it housed the Galactic Alliance Guard decades later during the conflict between the Corellian Confederation and the Galactic Alliance.\"\n",
      "\"A-9 Vigilance Interceptor\",\"An Imperial short-range starfighter that was introduced about six years after the Battle of Endor, soon after Grand Admiral Thrawn's defeat. The A-9 Vigilance Interceptor traded shields and hyperdrive for speed. Faster than a TIE interceptor, it was about equal in speed to an A-wing fighter. Imperial forces used its forward-firing laser cannons for hit-and-run attacks on hardened New Republic installations. However, overall performance was less than hoped for because of its limited maneuverability and relatively weak hull. The A-9 saw service in the New Republic Fleet, as well as local planetary defenses following the Yuuzhan Vong invasion. It was eventually followed by the A-10.\"\n",
      "\"A99 Aquata Breather\",\"A compact breathing apparatus used by Jedi Knights in underwater, vacuum, and poisonous environments. Tiny oxygen tanks and filter units provided vital gases, which could be customized for non-oxygen-breathing species.\"\n",
      "\"A9G archive droid\",\"An outdated and recalled line of humanoid-shaped information technology droids from Industrial Automaton that the Rebel Alliance acquired at a discount and repurposed for military administrative and intelligence use.\"\n",
      "\"AA-I\",\"Manufactured by Synthe Tech, this was the common verbobrain processing module found within cognitive units of 3PO protocol droids.\"\n",
      "\"A-A5 speeder truck\",\"A variety of heavy repulsorlift vehicle manufactured by Trast Heavy Transports, often used by the Rebel Alliance for military transport.\"\n",
      "\"AA-589\",\"The designation of Luke Skywalker's X-wing fighter during the rise of Grand Admiral Thrawn, five years after the Battle of Endor. Prolonged exposure to R2-D2's idiosyncrasies led the X-wing to develop a near-counterpart-level relationship with the astromech, but left the vessel virtually incompatible with other droids.\"\n",
      "\"AA-9 freighter\",\"A massive starfreighter manufactured on Botajef, 390 meters long, it could transport cargo, passengers, or a mix of both. AA-9 freighters were occasionally pressed into service as no-frills passenger liners; the Jendirian Valley, for instance, ferried Anakin Skywalker and Senator Padmé Amidala from Coruscant to Naboo during the Separatist crisis.\"\n",
      "\"AAA-2\",\"A later-model SyntheTech verbobrain developed during the time of the New Republic.\"\n",
      "\"Aabe, Peita\",\"A former Imperial officer serving under Soontir Fel as part of the Chiss Expansionary Defense Fleet. During the war against the Yuuzhan Vong, Aabe allowed Luke Skywalker access to the Chiss library on Csilla as a resource during Skywalker's search for the living planet Zonama Sekot. Wishing to protect Chiss interests, Aabe conspired to eliminate Fel's family, but Jacen Solo helped uncover his treachery.\"\n",
      "\"AAC-I speeder tank\",\"A design developed by SoroSuub Corporation and foolishly lost to the Rebel Alliance and Naboo Royal Security Forces, the AAC-1 was a fast and durable anti-aircraft combat vehicle armed with laser, particle beam, and missile weapons.\"\n",
      "\"Aach\",\"The code name for one of Bail Organa's top agents in the early days of the Rebel Alliance. Aach informed Senator Garm Bel Iblis of Organa's discovery of the Death Star project. This news delayed a public appearance by Bel Iblis, thwarting an assassination attempt on the Senator.\"\n",
      "\"AAD-4\",\"A line of hulking, humanoid assault droids used by Arakyd Industries, they were dispatched into the Vulpter-based offices of rival Viper Sensor Intelligence Systems in what amounted to a very hostile corporate takeover shortly before the Clone Wars.\"\n",
      "\"Aaeton\",\"The government of Aaeton had special permission to allow its citizens to visit the normally off-limits neighboring world of Ragoon VI, half a day's hyperspace journey away.\"\n",
      "\"AA-12X\",\"A model of verbobrain designed for the AD series of armory droids.\"\n",
      "\"AA-23, Detention Block\",\"The block that held Princess Leia Organa aboard the first Death Star. Specifically, she was imprisoned in cell 2187 of level five, Detention Block AA-23.\"\n",
      "\"Aaida\",\"This woman and her husband, Lootra, lived on Nar Shaddaa during the years following the Jedi Civil War. The Exchange kidnapped Aaida and held her hostage in an attempt to force Lootra to become a member. He refused, and eventually asked the Jedi Exile to help him free her.\"\n",
      "\"Aak, Senator Ask\",\"The Gran Senator from Malastare, Ask Aak filled the vacancy left by the untimely death of Senator Aks Moe during the Separatist crisis. Dug activists seeking equal rights on Malastare protested Aak's appointment. The hawkish Aak advocated proactive measures against the Separatists, and was vocally critical of the Jedi Order's inability to keep the peace. When the clone army was discovered on Kamino, Aak immediately championed its use.\"\n",
      "\"Aakuan\",\"Easily provoked Corellian anarchists who believed that all sentient beings had the right to govern themselves and that no authority should invade anyone's personal freedom. The Aakuan were dangerous only to those who invaded their territories. Their extremely independent views found some popularity among Corellians. Their name derived from the Old Corellian term aa'kua, which translated into 'respecting space'.\"\n",
      "\"Aalagar\",\"An isolated subspecies of Bith living on remote islands on Clak'dor VII. They recorded their genealogies through a form of knot tying, a practice that later evolved into more advanced record keeping and communication. When translated through Aalagar symbology, a prophetic Sith tassel that Jacen Solo uncovered read, 'He will ruin those who deny justice'.\"\n",
      "\"Aalto\",\"A youngling friend of Bruck Chun in the Jedi Temple, Aalto would often join in teasing young Obi-Wan Kenobi.\"\n",
      "\"Aalun, Syron\",\"One of a trio of famous Gand ruetsavii, or observers, who were sent to observe Rogue Squadron pilot Ooryl Qrygg's life and determine his worthiness to become janwuine. The highest possible honor in the communal Gand society, janwuine involved the right of an individual to speak of her- or himself in the first person and to use personal pronouns in conversation. The ruetsavii not only observed Qrygg's activities but also participated fully in the squadron as fighter pilots and undercover operatives.\"\n",
      "\"Aama, Major\",\"A New Republic Intelligence agent who was one of Hiram Drayson's senior facilitators within Alpha Blue.\"\n",
      "\"AAP blaster box\",\"A series of strap-on laser weapons that could be affixed to droids without extensive reprogramming. Developed by Briletto Company, the AAP-II saw use in the BL series Battle Legionnaires, while the AAP-IV models were slated for use on Z-X3 battle droids.\"\n",
      "\"Aar'aa\",\"Chameleon-like intelligent reptilian aliens also known as skin-changers. Aar'aa hailed from Aar, and they often were involved in Hutt ventures.\"\n",
      "\"Aargau\",\"The third planet in the Zug system. A spectacularly wealthy center of banking and commerce among the Core Worlds, Aargau attempted to remain neutral in the many galactic wars. Republic, Separatist, Imperial, and Rebel treasures were stored within well-protected vaults. Some sections of Aargau's sprawling cities were laid out in levels allocated according to function. The InterGalactic Banking Clan maintained a massive pyramidal arcology on Aargau. The planet's laws and culture revolved entirely around banking. There were three main crimes punishable by immediate execution: (1) unlawful removal of precious metals; (2) unlawful possession of weapons by non-natives (conversely, it was unlawful for citizens to be unarmed); and (3) willfully conspiring to defraud, discredit, or deceive the Bank of Aargau.\"\n",
      "\"Aargau Medical Observer Corps\",\"A neutral organization active during the Clone Wars. Both the Separatists and the Old Republic tolerated the AMOC, allowing members to visit war-torn worlds to investigate any atrocities that might have been committed.\"\n",
      "\"Aargonar\",\"A relatively insignificant, sparsely populated desert world and battle site of the Clone Wars. Jedi Master A'Sharad Hett-bolstered by Bultar Swan, Ki-Adi-Mundi, and Anakin Skywalker-led the defense of Republic forces against the Separatist attack. The planet was known to host numerous Sarlacc specimens. Years later, during the Galactic Civil War, Aargonar's third moon housed a Rebel base.\"\n",
      "\"Aaris III\",\"A jungle planet in the Kathol sector, home to a vanished ancient civilization and possibly artifacts employing DarkStryder technology.\"\n",
      "\"Aarn\",\"A heretical Shamed One, this member of the lowest caste of Yuuzhan Vong lived on Coruscant after its transformation to Yuuzhan'tar.\"\n",
      "\"Aaroun\",\"Powerful golden-furred sentient carnivores, the Aaroun were long bred for gladiator combat by the Viis Empire.\"\n",
      "\"Aarrba the Hutt\",\"A kindhearted Hutt who owned a starship dock and repair bay in Cinnagar on Koros Major about 5,000 years before the Galactic Civil War. The curiously charitable Hutt befriended the hyperspace explorers Gav and Jori Daragon, extending them credit to cover their ever-increasing debt. When Gav and Jori were forced to flee from lenders and stole the vessel Starbreaker 12 from Aarrba's dock, the Hutt felt betrayed. During the Great Hyperspace War that erupted due to Gav and Jori's explorations, Gav led Sith forces to Cinnagar. Aarrba chastised Gav, and was killed by Sith Massassi warriors who believed the Hutt was attacking Daragon. After the Sith forces were defeated, Jori reopened Aarrba's repair dock to preserve his memory.\"\n",
      "\"AAT (armored assault tank)\",\"The front line of Trade Federation armored infantry divisions. A crew of battle droids drove the battle tank and operated its array of laser and projectile weaponry. The AAT's turret-mounted primary laser cannon had long-range destructive capability; it was bracketed by a pair of pylon-mounted secondary laser cannons. A pair of forward-facing short-range blaster cannons rounded out the AAT's energy-weapon complement. Contained in the forward edge of the tank's armored repulsorlift shroud were six energized shell projectile launchers capable of delivering specialized payloads. The tank contained three separate magazines from which to draw warheads: high-energy shells encased in a cocoon of plasma for incredible speed and penetration power, specialized armor-piercing warheads, and high-explosive 'bunker busting' shells. Built by Baktoid Armor Workshop, the AAT saw heavy use in the Battle of Naboo and the Clone Wars.\"\n",
      "\"Aavman Extravagance\",\"The manufacturer of such luxury vessels as the 11-S space yacht.\"\n",
      "\"aay'han\",\"A Mandoa word describing a bittersweet time of remembrance and celebration after the death of a family member. As a rule, Mandalorians who died were not buried, something reserved for the Mandalor. Most individuals were cremated (unless the body could not be recovered), and their ashes were strewn to the wind. To preserve their memories, deceased Mandalorians were remembered in nightly recitals of their names, an act that was believed to keep alive their existence as well as their memory. Sometimes the personal effects of deceased individuals were kept as well, especially their body armor.\"\n",
      "\"Aay'han\",\"The name given to the Deep Water-class freighter purchased by Kal Skirata and the clone commando Ordo on the planet Agamar during the Clone Wars. Skirata chose the name-a Mandoa word for a particular state of mind-to honor the bittersweet memories of his adoptive father, Munin, and the clone named Dov who died while training.\"\n",
      "\"AB-1 'floatcoach'\",\"An early prototype landspeeder that predated the more modern designs of the New Order. Palpatine kept several of these outdated vehicles within the hangar bay of his store-house facility in Mount Tantiss.\"\n",
      "\"AB-4\",\"A protocol droid programmed by the Rebel Alliance to serve as supply officer and bureaucrat for Advanced Base Baskarn.\"\n",
      "\"AB-6\",\"A worker droid with a female personality that was effectively 'adopted' into the Farn family on Tatooine.\"\n",
      "\"Abaarian\",\"The source of water shipments hijacked by pirates during the Dark Nest crisis. Jedi Knights Tesar Sebatyne and Lowbacca investigated these incidents.\"\n",
      "\"Abadaner\",\"A Corellian dissident arrested by the Galactic Alliance Guard on Coruscant based on a hunch by Ben Skywalker.\"\n",
      "\"A'baht, General Etahn\",\"Assigned as commander of the New Republic's Fifth Fleet because of experience leading his native Dornean Navy against Imperial forces, A'baht had a leathery face that flushed purple and eye folds that swelled and fanned out. His flagship was the fleet carrier Intrepid, and he declared the fleet operational following the live-fire exercise Hammerblow. Defying specific orders from Princess Leia Organa to stay out of the unexplored Koornacht Cluster, he sent the survey ship Astrolabe to Doornik-1142, hoping to get good military intelligence. Yevethan forces, which had been roiling the sector and undertaking xenophobic extermination campaigns, destroyed the Astrolabe. Ambassador Nil Spaar, viceroy of the Duskhan League, declared the incident an act of aggression by the New Republic and prepared to go to war. General A'baht then led the deployment of the Fifth Fleet to the cluster and blockaded Doornik-319, where the Yevetha were mounting their forces. When the fleet came under withering attack, General A'baht was forced to withdraw. Princess Leia Organa Solo then relieved him of command and substituted her husband, Han Solo.\"\n",
      "\"Aban\",\"An Imperial Navy officer, he oversaw the construction of an Imperial garrison on the watery world of Sedri when he held the rank of commander. Aban entered into an uneasy alliance with native renegade Karak in a bid to control the mysterious power source called the Golden Sun. Ultimately thwarted by Rebel agents, Aban emerged years later as captain of the Star Destroyer Bellicose in Grand Admiral Thrawn's forces.\"\n",
      "\"Abano\",\"A poor farmer on Aruza, he was the father of Manaroo, a tattooed dancing girl who eventually married the bounty hunter Dengar.\"\n",
      "\"Abanol\",\"A toxic world, second from the sun in the Beshqek system, within the Deep Core. the man's family for 10 generations and was considered by Xizor to be one of his most prized possessions.\"\n",
      "\"Ab'Bshingh\",\"The homeworld of the Farang and Waroot species.\"\n",
      "\"ABC scrambler\",\"A projectile weapon used by bounty hunters to cause severe disorientation. The Aural-Biological-Chemical scrambler fired a pod that emitted a broad spectrum of overwhelming sensory stimuli.\"\n",
      "\"Abdi-Badawzi\",\"A Twilek smuggling kingpin based on Socorro. An escaped slave and exile from Ryloth, Abdi-Badawzi was notable for his jet-black skin.\"\n",
      "\"Abek's Station\",\"A shadowport operated by the Nikto pirate Nim Abek on the Sisar Run.\"\n",
      "\"Aber\",\"A red dwarf star that was the primary star of the Abron system, containing the planet Alpheridies.\"\n",
      "\"Abersaith Canyon\",\"An immense natural formation on Corulag that contained an exotic bird preserve, the Abersaith Aviary, home to more than 20 million species of avians.\"\n",
      "\"Abesmi\",\"A remote island on the planet Kalee that served as an altar of worship for the native Kaleesh, who venerated General Grievous after his apparent death in the Huk War.\"\n",
      "\"Abhean\",\"This planet was home to the orbital construction site for the famed Jedi starship Chu'unthor.\"\n",
      "\"Abin-Ral-Xufush\",\"A ruthless Tiss'shar trader-turned-pirate who founded what became the Shadow Wing group of pirates.\"\n",
      "\"Abinyshi\",\"Slender intelligent reptilian aliens from Inysh with forked tails. Their population suffered after the Empire discovered valuable resources on their planet.\"\n",
      "\"Ablajeck sector\",\"An area of space that together with Moddell and Spar sectors made up the Inner Zuma region.\"\n",
      "\"Able-1707\",\"A Jango Fett-template clone trooper serving under Shaak Ti during the Clone Wars, unit A-1707 was stranded on an uncharted planet for over 20 years. He later assisted Rebel forces, including Luke Skywalker, when the Alliance attempted to establish a post on his planet. Adopting the more personalized name of Able, this trooper later served in the Alliance, helping in a mission to infiltrate an Imperial prison on Kalist VI.\"\n",
      "\"Able-472\",\"One of the Muunilinst 10 clone troopers who worked with General Obi-Wan Kenobi to defeat Durge and his IG lancer droid forces.\"\n",
      "\"Ables\",\"A Corellian trained in emergency procedures, she worked as a transportation engineer on Centerpoint Station in orbit between Talus and Tralus during the years following the war with the Yuuzhan Vong.\"\n",
      "\"Ab'Lon, Tereb\",\"A Bothan Rebel agent, he was incapacitated by Imperial agents and thrown to the Sarlacc in the Pit of Carkoon. He was survived by his astromech droid, R2-Z1, who carried vital information for the Alliance.\"\n",
      "\"abo\",\"Old Imperial slang for native inhabitants of a planet, often used in a derogatory manner.\"\n",
      "\"Abo Dreth\",\"A nitrogen-rich world in the Corporate Sector system of the same name whose small population included many Rebel Alliance sympathizers.\"\n",
      "\"Abolisher\",\"An Imperial Nebulon-B escort frigate.\"\n",
      "\"Abominor\",\"A mysterious and ancient species of sentient droids that waged war with the Silentium, another mechanical species. Their struggle in the distant past was said to have nearly wiped out all organic life in their native galaxy, and thus they were exiled. Some Abominors made it to this galaxy, and there were a few scattered accounts of sightings. The Great Heep of Biitu is probably the best-known specimen of Abominor life.\"\n",
      "\"Abonshee\",\"The native name for planet Masterhome, a lush forested planet inhabited by a sentient lizard species in the Fakir sector. Reekene's Roughnecks, a Rebel Alliance group, visited Abonshee to make diplomatic contact with the Anointed People during the Galactic Civil War.\"\n",
      "\"Aboukir\",\"A New Republic warship destroyed during the Battle of N'zoth.\"\n",
      "\"Abran system\",\"Site of the Abran Belt and the B'Knos mining colony, which was attacked by Ssi-ruuvi invaders.\"\n",
      "\"Abrax\",\"An aquamarine cognac with spicy vapors. The best vintages were produced during the Old Republic.\"\n",
      "\"Abraxas\",\"An abandoned world of spent mines, abandoned factories, and derelict ships, it served as a pirate base after the Battle of Endor.\"\n",
      "\"Abraxin\",\"This planet in the Tion Cluster was home to the marsh haunts, a species of Force-sensitive creatures.\"\n",
      "\"Abregado Moocher\",\"See Moocher.\"\n",
      "\"Abregado-rae\",\"A manufacturing- and trade-oriented planet in the Abregado system with a onetime primitive spaceport. After the birth of the New Republic, the spaceport cleaned up its act-at least to the untrained eye. Beneath the spit-shine and polish, the spaceport catered to smugglers and other disreputable types. An oppressive government allied to the New Republic ruled Abregado-rae's population of 40 million. Some nine years after the Battle of Yavin, the Abregado-rae leadership cut off all supplies to a clan of rebellious hill people, which created opportunities for ambitious smugglers. The planet was conquered by the Yuuzhan Vong during their invasion of the galaxy.\"\n",
      "\"Abregado system\",\"A planetary system located in the Borderland Regions, on the edge of the Core Worlds. During the Clone Wars, Plo Koon and his forces scouted the Abregado system for any signs of the mysterious Separatist vessel Malevolence. For years, the Abregado system was a militarized zone that separated the New Republic from the remnants of the Empire; it was controlled by neither but influenced by both. A vast and complex manufacturing infrastructure linked the system's planets, and the goods produced there were vitally important to the well-being of the New Republic.\"\n",
      "\"Abric\",\"A starship thief who worked with Niles Ferrier during the Thrawn crisis.\"\n",
      "\"Abridon\",\"A world of verdant mountains and emerald-green fields laced with shimmering rivers. It was allied to the Rebellion after the Battle of Hoth, only to be brutally recaptured by the Empire. Luke Skywalker was taken prisoner during the conquest, and rescued by Imperial defector Brenn Tantor.\"\n",
      "\"Abrihom\",\"A Rebel Alliance supply station platform destroyed during the Galactic Civil War.\"\n",
      "\"Abrion sector\",\"A 'bread basket' of sorts for the galaxy, the Abrion sector was home to over 200 agriworlds. Its secession during the Separatist crisis was a great blow to the Galactic Republic. The sector included sector capital Abrion Major as well as the planet Ukio, which became one of the top five producers of foodstuffs for the New Republic. When Ukio was captured by Grand Admiral Thrawn, it had serious repercussions for the sector.\"\n",
      "\"Abrogator\",\"An Imperial Dreadnaught dispatched to Saloch 2 to put down the Reslian Purge. Soontir Fel served aboard the Abrogator as part of the 37th Imperial Fighter Wing.\"\n",
      "\"Absit\",\"This planet, homeworld of the Yatir species, was once subjugated by the Empire.\"\n",
      "\"Absolutes\",\"The secret police of the Civilized, the totalitarian former rulers of Apsolon. The Absolutes used torture to enforce the aims of the wealthy minority. Their motto was: 'Absolute justice calls for absolute loyalty.' Despite their attempts, the Absolutes were unable to stop the acts of industrial sabotage committed by the Workers. Following the reform of Apsolon's government, the Absolutes went underground.\"\n",
      "\"Absolutists\",\"Staunchly independent Selonians who advocated the use of Selonia's planetary repulsors to secede from the New Republic. The Sacorrian Triad, backed by the New Republic, was able to dissolve the Absolutists.\"\n",
      "\"absorbmat\",\"Small, liquid-absorbent surface used as a coaster for beverages.\"\n",
      "\"Ab'Ugartte\",\"A reclusive and unfriendly alien species from parts unknown that counted Jak Sazz among its members.\"\n",
      "\"Abya, Sybegh\",\"A breedtash farmer on Sedsia who was also the principal Rebel Alliance contact on the planet, assisted by accounting droid A2-B4.\"\n",
      "\"Abyss, Naboo\",\"The general name used for the labyrinthine system of seas and waterways that began on Naboo's surface and permeated to its core. Though much of the water was placid and cool, dangerous pocket currents were created when fiery blasts from the planet's core heated the water to high temperatures. Extreme caution had to be used when traveling in the honeycomb-like passways of the inner planet given the massive creatures that lurked there.\"\n",
      "\"Abyss, the\",\"A common term that described many seemingly unfathomable and forbidding locales across the galaxy, including a deeply excavated mine on Vasha said to house the Vashan god of decay; a deep vertical slice of Imperial City that once contained the New Republic Intelligence agency code-named Mirage; and a particularly treacherous Podrace course on Ord Ibanna.\"\n",
      "\"Abyssin\",\"This primitive and violent species inhabited the occasionally fertile planet Byss in the binary star system of Byss and Abyss. (Byss had the same name as a distant planet that was used as a retreat by Emperor Palpatine.) At about 2 meters tall, the hulking, humanoid Abyssin had long limbs and a single large eye dominating greenish tan foreheads. Because they healed quickly and could regenerate any body part, this nomadic species condoned a high degree of physical violence since the consequences were short lasting. Offworld, they were often hired as petty thugs.\"\n",
      "\"Abyssin grafting patch\",\"A medical supply from Kirgalis Pharmaceutical Exports that used specially harvested regenerative cells from Abyssin biochemistry to promote rapid growth of new skin cells.\"\n",
      "\"ACI surveillance droid\",\"A mobile and semi-intelligent spherical surveillance holoc-am droid nicknamed the spy-eye.\"\n",
      "\"Academy, the\",\"A Galactic Republic-era elite educational and training institution that turned unseasoned youths into highly trained members of the Exploration, Military, and Merchant Services, the Academy had numerous campuses spread across the galaxy. Under Emperor Palpatine's New Order, the Academy became a training ground for nonclone Imperial officers, especially Raithal Academy in the Core region. Under the New Republic, the Academy was rebuilt to regain past glory.\"\n",
      "\"Acamma, Veril\",\"A military leader on Sucharme, she led an armed resistance movement against the invading Trade Federation that eventually drove it off the planet.\"\n",
      "\"ACC-7\",\"This series of small assassin droids, developed by Arakyd Industries, was popular among Imperial law enforcement and undercover operatives. The hovering spherical droids contained four retractable arms that extended to reveal heavy-duty vibroblades. Use of the ACC-7 was outlawed by the New Republic, but statutes against them were loosened so they could be used against the invading Yuuzhan Vong.\"\n",
      "\"accarrgm\",\"A strong liquor favored by Wookiees.\"\n",
      "\"acceleration chair, acceleration couch\",\"A generic term for g-force-absorbing seats found aboard starships.\"\n",
      "\"acceleration compensator\",\"A device that generated a type of artificial gravity and helped neutralize the effects of accelerating to high speed aboard medium- and larger-sized spacecraft such as the Millennium Falcon.\"\n",
      "\"acceleration facility\",\"A term describing various facilities constructed by the hives of the Colony to assist with the process of turning beings into Joiners. Many of these structures were found on the planets of the Utegetu Nebula, after the Colony's hives were relocated there following the Qoribu crisis. Most beings brought to these facilities were criminals such as smugglers and pirates, who could be turned to work for the Gorog.\"\n",
      "\"acceleration straps\",\"These passenger-safety harnesses were usually built into the seats of spacecraft to restrain passengers during takeoffs, landings, and violent maneuvers.\"\n",
      "\"Acceptance\",\"A Republic Consular-class cruiser that served as Jedi Master Dooku's flagship during the A-Cee mission to rid Galidraan of Mandalorian forces. The Acceptance was destroyed in battle in the Yinchorri system, though crew members Maoi Madakor and Antidar Williams were able to escape.\"\n",
      "\"Access Chute\",\"This kilometers-long pathway snaked through a grid of decaying cities and tall docking towers on the spaceport moon Nar Shaddaa. Its entrance masked by a bright advertising holoscreen, the Chute led to the repair facility of an old buddy of Han Solo, Shug Ninx.\"\n",
      "\"accipiptero\",\"The largest flying reptile native to Dagobah.\"\n",
      "\"Acclamator-class assault ship\",\"Massive transport ships used by the Grand Army of the Republic during the Clone Wars. These wedge-shaped Republic assault ships were built in secret in the shipyards of Rothana. Though not designed specifically for ship-to-ship combat, Acclamators were more than capable of holding their own against smaller Separatist cruisers. Subsequent models in the series were more focused on planetary bombardment missions. Eventually, they were replaced by more modern and capable Imperial-era warships.\"\n",
      "\"Accolux Township\",\"This Yedagon city was supposedly attacked and destroyed by the Lords of Dismay Flightknife during the civil war that broke out on Adumar. In reality, reports depicting the battle were faked in an effort to keep the Empire from learning that the Adumari had sided with the New Republic.\"\n",
      "\"Accu, Paddy\",\"An older human at the time of the Clone Wars, he served as retreat caretaker in the Lake Country of Naboo. Paddy Accu drove the gondola speeder that brought Padmé Amidala and Anakin Skywalker to the lake retreat.\"\n",
      "\"accu-accelerator\",\"Part of the ignition system found in many starship sublight engine systems.\"\n",
      "\"Accuser\",\"See Emancipator.\"\n",
      "\"Accutronics\",\"A leading droid manufacturer and early forerunner in the marketing of droids to families with young children. It was formerly a subsidiary of Industrial Automaton.\"\n",
      "\"Ace-6\",\"Cybot Galactica's droid brain unit, found aboard the automated TIE/D droid starfighter.\"\n",
      "\"A-Cee\",\"A chrome-plated protocol droid belonging to the Rebel Intelligence agent Candice Ondi. A-Cee's recordings of an Imperial massacre on Sulon convinced Kyle Katarn to join the Rebellion. Programmed to self-destruct if discovered by the Empire, A-Cee detonated aboard an Imperial yacht, killing Governor Donar.\"\n",
      "\"Ace Entertainment Corporation\",\"The parent company of a number of upscale gambling establishments, including the Ace of Sabres on Kluistar.\"\n",
      "\"acertron\",\"This flexible heavy alloy, cryogenically tempered to add strength, was used in the chest carapace of super battle droids.\"\n",
      "\"Ace Squadron\",\"Pash Cracken's A-wing squadron that served in the Battle of Thyferra.\"\n",
      "\"Acey\",\"A thief and friend of Dexter Jettster.\"\n",
      "\"Ac'fren Spur\",\"A little-known 'side' path of the Sisar Run that connected the Si'Klaata Cluster with the Weequay homeworld of Sriluur.\"\n",
      "\"Acherin\",\"Jedi Master Garen Muln led Republic forces on Acherin during the devastating fighting that occurred there in the Clone Wars. When the Empire came to power, Separatist holdouts formed a short-lived underground resistance on Acherin. Obi-Wan Kenobi, Ferus Olin, and Trever Flume briefly worked with the resistance during their time on Acherin.\"\n",
      "\"Achillea\",\"A semi-tropical world of great beauty that was one of the principal planets controlled by House Cadriaan in the Tapani sector.\"\n",
      "\"Achtnak Turbine Station\",\"A TIE fighter launch base hidden within the atmosphere of the gas giant Yavin. After the destruction of the first Death Star, Baron Orman Tagge led an operation there that harassed the Rebels blockaded on Yavin 4. The station used a massive turbine to open a 'storm corridor' within Yavin's turbulent atmosphere, allowing the launch and receipt of TIE fighters. Luke Skywalker was able to destroy the station.\"\n",
      "\n",
      "\n"
     ]
    }
   ],
   "source": [
    "print(response.text)"
   ]
  },
  {
   "cell_type": "code",
   "execution_count": 30,
   "id": "8bb72b82",
   "metadata": {},
   "outputs": [
    {
     "name": "stdout",
     "output_type": "stream",
     "text": [
      "\"A-1 Deluxe Floater\",\"A luxury land-speeder from Mobquet plagued by bad reviews. Its drawbacks of poor ventilation and odd interior space were offset by affordability and reliability. It was available with optional Corellian leather interior.\"\n",
      "\"A-10\",\"See A-9 Vigilance Interceptor.\"\n",
      "\"A-121\",\"An antiquated variety of astrogation plotter that, if used in lieu of a more modern nav computer, took four times as long to calculate hyperspace trips.\"\n",
      "\"A14\",\"A one-being repulsor disk manufactured by Aratech, used for construction and utility work.\"\n",
      "\"A-17\",\"See Alpha (A-17).\"\n",
      "\"A-1707\",\"See Able-1707.\"\n",
      "\"A-175\",\"An Action IV transport captained by Joh Steen that was seized by the privateer vessel Far Orbit.\"\n",
      "\"A-I Deluxe Floater\",\"A luxury land-speeder from Mobquet plagued by bad reviews. Its drawbacks of poor ventilation and odd interior space were offset by affordability and reliability. It was available with optional Corellian leather interior.\"\n",
      "\"Al series business droid\",\"Developed by Genetech during the Old Republic, this droid was eventually replaced by the A2 accounting droid.\"\n",
      "\"A-I shuttle\",\"A variety of personal shuttles used by the admirals of the Galactic Republic's Starfleet during the Clone Wars for transit to and from their flagships.\"\n",
      "\"A2, A3\",\"The designations of Arakyd probots guarding Warlord Zsinj's facilities on Xartun.\"\n",
      "\"A2 accounting droid\",\"A hemispherical number-crunching business droid manufactured by Genetech.\"\n",
      "\"A-24 Sleuth\",\"A model of lightly armed two-person scout ship developed by the Incom Corporation, the A-24 Sleuth was fast and agile for a ship less than 20 meters long.\"\n",
      "\"A-26\",\"See Maze.\"\n",
      "\"A280 blaster rifle\",\"A standard-issue long-arm used by Rebel Alliance troopers at Echo Base on Hoth. The A280 blaster rifle was highly accurate with a good range. It was favored by snipers in hostile environments.\"\n",
      "\"A2-B4 (Aytoo Beefour)\",\"An A2 accounting droid formerly owned by the wealthy Lord Anstaal, and later by rancher Sybegh Abya.\"\n",
      "\"A2-ZP (Zip)\",\"Nicknamed Zip, this A2 accounting droid was owned by Rebel agent Jhorag Corconnan.\"\n",
      "\"A3AA personal defense module\",\"A Corellian Technologies defense suit used by a few Imperial-contracted bounty hunters. It emitted clouds of courenth and ves gas that served to dissipate incoming blasterfire.\"\n",
      "\"A-9 Vigilance Interceptor\",\"emitted clouds of courenth and ves gas that served to dissipate incoming blasterfire.\"\n",
      "\"A-3DO (ThreeDee)\",\"A multitalented service droid owned by Jedi Andur Sunrider, ThreeDee was a crack mechanic and copilot who witnessed his master's death at the hands of a criminal gang headed by Great Bogga the Hutt some 4,000 years before the Battle of Yavin. The droid then aided Andur's wife, Nomi, as she reluctantly trained to learn the ways of the Jedi.\"\n",
      "\"A-3PO\",\"An affable protocol droid used by Rebel agent and artifacts dealer Retter Lewis aboard the Cal Ambre.\"\n",
      "\"A-3TO\",\"The green-plated protocol droid that greeted incoming visitors to the Yard, Syndicate One headquarters on Valgauth.\"\n",
      "\"A-30\",\"See Sull.\"\n",
      "\"A4-D (Ay-Four-Dee)\",\"A droid doctor overseer that served General Grievous at his lair on the Vassek moon.\"\n",
      "\"A5 assassin droid\",\"A repurposed assassin droid programmed to act as a bouncer at the Farrimmer Café at the Mynock 7 Space Station. It was destroyed in bounty hunter crossfire.\"\n",
      "\"A-5DS\",\"A modified protocol droid that helped Rebel Alliance recruiter Rith Tar'ak make contact with the native Ebranites on Ebra.\"\n",
      "\"A-5 envirosuit\",\"The most popular of the Malik Technologies environmental suits found on Goroth, it provided full protection from radiation and temperature extremes.\"\n",
      "\"A68 Market\",\"The informal name given to one of the largest black-market networks aboard the original Death Star, found in city sprawl North 7:A68. It was overseen by Lieutenant Gorsick Dommaro.\"\n",
      "\"A-6 Interceptor\",\"A small starfighter armed with paired turbolaser cannons produced during the last decades of the Galactic Republic.\"\n",
      "\"A-77\",\"One of many assassin droids that accompanied Asajj Ventress to Phindar to intercept Yoda on the Jedi Master's way to Vjun during the Clone Wars. Yoda easily destroyed the droid.\"\n",
      "\"A99 Aquata Breather\",\"A compact breathing apparatus used by Jedi Knights in underwater, vacuum, and poisonous environments. Tiny oxygen tanks and filter units provided vital gases, which could be customized for non-oxygen-breathing species.\"\n",
      "\"A-89\",\"A quadrant of Galactic City on Coruscant that housed the Coruscant Security Force during the Clone Wars, it housed the Galactic Alliance Guard decades later during the conflict between the Corellian Confederation and the Galactic Alliance.\"\n",
      "\"A-9 Vigilance Interceptor\",\"An Imperial short-range starfighter that was introduced about six years after the Battle of Endor, soon after Grand Admiral Thrawn's defeat. The A-9 Vigilance Interceptor traded shields and hyperdrive for speed. Faster than a TIE interceptor, it was about equal in speed to an A-wing fighter. Imperial forces used its forward-firing laser cannons for hit-and-run attacks on hardened New Republic installations. However, overall performance was less than hoped for because of its limited maneuverability and relatively weak hull. The A-9 saw service in the New Republic Fleet, as well as local planetary defenses following the Yuuzhan Vong invasion. It was eventually followed by the A-10.\"\n",
      "\"A99 Aquata Breather\",\"A compact breathing apparatus used by Jedi Knights in underwater, vacuum, and poisonous environments. Tiny oxygen tanks and filter units provided vital gases, which could be customized for non-oxygen-breathing species.\"\n",
      "\"A9G archive droid\",\"An outdated and recalled line of humanoid-shaped information technology droids from Industrial Automaton that the Rebel Alliance acquired at a discount and repurposed for military administrative and intelligence use.\"\n",
      "\"AA-I\",\"Manufactured by Synthe Tech, this was the common verbobrain processing module found within cognitive units of 3PO protocol droids.\"\n",
      "\"A-A5 speeder truck\",\"A variety of heavy repulsorlift vehicle manufactured by Trast Heavy Transports, often used by the Rebel Alliance for military transport.\"\n",
      "\"AA-589\",\"The designation of Luke Skywalker's X-wing fighter during the rise of Grand Admiral Thrawn, five years after the Battle of Endor. Prolonged exposure to R2-D2's idiosyncrasies led the X-wing to develop a near-counterpart-level relationship with the astromech, but left the vessel virtually incompatible with other droids.\"\n",
      "\"AA-9 freighter\",\"A massive starfreighter manufactured on Botajef, 390 meters long, it could transport cargo, passengers, or a mix of both. AA-9 freighters were occasionally pressed into service as no-frills passenger liners; the Jendirian Valley, for instance, ferried Anakin Skywalker and Senator Padmé Amidala from Coruscant to Naboo during the Separatist crisis.\"\n",
      "\"AAA-2\",\"A later-model SyntheTech verbobrain developed during the time of the New Republic.\"\n",
      "\"Aabe, Peita\",\"A former Imperial officer serving under Soontir Fel as part of the Chiss Expansionary Defense Fleet. During the war against the Yuuzhan Vong, Aabe allowed Luke Skywalker access to the Chiss library on Csilla as a resource during Skywalker's search for the living planet Zonama Sekot. Wishing to protect Chiss interests, Aabe conspired to eliminate Fel's family, but Jacen Solo helped uncover his treachery.\"\n",
      "\"AAC-I speeder tank\",\"A design developed by SoroSuub Corporation and foolishly lost to the Rebel Alliance and Naboo Royal Security Forces, the AAC-1 was a fast and durable anti-aircraft combat vehicle armed with laser, particle beam, and missile weapons.\"\n",
      "\"Aach\",\"The code name for one of Bail Organa's top agents in the early days of the Rebel Alliance. Aach informed Senator Garm Bel Iblis of Organa's discovery of the Death Star project. This news delayed a public appearance by Bel Iblis, thwarting an assassination attempt on the Senator.\"\n",
      "\"AAD-4\",\"A line of hulking, humanoid assault droids used by Arakyd Industries, they were dispatched into the Vulpter-based offices of rival Viper Sensor Intelligence Systems in what amounted to a very hostile corporate takeover shortly before the Clone Wars.\"\n",
      "\"Aaeton\",\"The government of Aaeton had special permission to allow its citizens to visit the normally off-limits neighboring world of Ragoon VI, half a day's hyperspace journey away.\"\n",
      "\"AA-12X\",\"A model of verbobrain designed for the AD series of armory droids.\"\n",
      "\"AA-23, Detention Block\",\"The block that held Princess Leia Organa aboard the first Death Star. Specifically, she was imprisoned in cell 2187 of level five, Detention Block AA-23.\"\n",
      "\"Aaida\",\"This woman and her husband, Lootra, lived on Nar Shaddaa during the years following the Jedi Civil War. The Exchange kidnapped Aaida and held her hostage in an attempt to force Lootra to become a member. He refused, and eventually asked the Jedi Exile to help him free her.\"\n",
      "\"Aak, Senator Ask\",\"The Gran Senator from Malastare, Ask Aak filled the vacancy left by the untimely death of Senator Aks Moe during the Separatist crisis. Dug activists seeking equal rights on Malastare protested Aak's appointment. The hawkish Aak advocated proactive measures against the Separatists, and was vocally critical of the Jedi Order's inability to keep the peace. When the clone army was discovered on Kamino, Aak immediately championed its use.\"\n",
      "\"Aakuan\",\"Easily provoked Corellian anarchists who believed that all sentient beings had the right to govern themselves and that no authority should invade anyone's personal freedom. The Aakuan were dangerous only to those who invaded their territories. Their extremely independent views found some popularity among Corellians. Their name derived from the Old Corellian term aa'kua, which translated into 'respecting space'.\"\n",
      "\"Aalagar\",\"An isolated subspecies of Bith living on remote islands on Clak'dor VII. They recorded their genealogies through a form of knot tying, a practice that later evolved into more advanced record keeping and communication. When translated through Aalagar symbology, a prophetic Sith tassel that Jacen Solo uncovered read, 'He will ruin those who deny justice'.\"\n",
      "\"Aalto\",\"A youngling friend of Bruck Chun in the Jedi Temple, Aalto would often join in teasing young Obi-Wan Kenobi.\"\n",
      "\"Aalun, Syron\",\"One of a trio of famous Gand ruetsavii, or observers, who were sent to observe Rogue Squadron pilot Ooryl Qrygg's life and determine his worthiness to become janwuine. The highest possible honor in the communal Gand society, janwuine involved the right of an individual to speak of her- or himself in the first person and to use personal pronouns in conversation. The ruetsavii not only observed Qrygg's activities but also participated fully in the squadron as fighter pilots and undercover operatives.\"\n",
      "\"Aama, Major\",\"A New Republic Intelligence agent who was one of Hiram Drayson's senior facilitators within Alpha Blue.\"\n",
      "\"AAP blaster box\",\"A series of strap-on laser weapons that could be affixed to droids without extensive reprogramming. Developed by Briletto Company, the AAP-II saw use in the BL series Battle Legionnaires, while the AAP-IV models were slated for use on Z-X3 battle droids.\"\n",
      "\"Aar'aa\",\"Chameleon-like intelligent reptilian aliens also known as skin-changers. Aar'aa hailed from Aar, and they often were involved in Hutt ventures.\"\n",
      "\"Aargau\",\"The third planet in the Zug system. A spectacularly wealthy center of banking and commerce among the Core Worlds, Aargau attempted to remain neutral in the many galactic wars. Republic, Separatist, Imperial, and Rebel treasures were stored within well-protected vaults. Some sections of Aargau's sprawling cities were laid out in levels allocated according to function. The InterGalactic Banking Clan maintained a massive pyramidal arcology on Aargau. The planet's laws and culture revolved entirely around banking. There were three main crimes punishable by immediate execution: (1) unlawful removal of precious metals; (2) unlawful possession of weapons by non-natives (conversely, it was unlawful for citizens to be unarmed); and (3) willfully conspiring to defraud, discredit, or deceive the Bank of Aargau.\"\n",
      "\"Aargau Medical Observer Corps\",\"A neutral organization active during the Clone Wars. Both the Separatists and the Old Republic tolerated the AMOC, allowing members to visit war-torn worlds to investigate any atrocities that might have been committed.\"\n",
      "\"Aargonar\",\"A relatively insignificant, sparsely populated desert world and battle site of the Clone Wars. Jedi Master A'Sharad Hett-bolstered by Bultar Swan, Ki-Adi-Mundi, and Anakin Skywalker-led the defense of Republic forces against the Separatist attack. The planet was known to host numerous Sarlacc specimens. Years later, during the Galactic Civil War, Aargonar's third moon housed a Rebel base.\"\n",
      "\"Aaris III\",\"A jungle planet in the Kathol sector, home to a vanished ancient civilization and possibly artifacts employing DarkStryder technology.\"\n",
      "\"Aarn\",\"A heretical Shamed One, this member of the lowest caste of Yuuzhan Vong lived on Coruscant after its transformation to Yuuzhan'tar.\"\n",
      "\"Aaroun\",\"Powerful golden-furred sentient carnivores, the Aaroun were long bred for gladiator combat by the Viis Empire.\"\n",
      "\"Aarrba the Hutt\",\"A kindhearted Hutt who owned a starship dock and repair bay in Cinnagar on Koros Major about 5,000 years before the Galactic Civil War. The curiously charitable Hutt befriended the hyperspace explorers Gav and Jori Daragon, extending them credit to cover their ever-increasing debt. When Gav and Jori were forced to flee from lenders and stole the vessel Starbreaker 12 from Aarrba's dock, the Hutt felt betrayed. During the Great Hyperspace War that erupted due to Gav and Jori's explorations, Gav led Sith forces to Cinnagar. Aarrba chastised Gav, and was killed by Sith Massassi warriors who believed the Hutt was attacking Daragon. After the Sith forces were defeated, Jori reopened Aarrba's repair dock to preserve his memory.\"\n",
      "\"AAT (armored assault tank)\",\"The front line of Trade Federation armored infantry divisions. A crew of battle droids drove the battle tank and operated its array of laser and projectile weaponry. The AAT's turret-mounted primary laser cannon had long-range destructive capability; it was bracketed by a pair of pylon-mounted secondary laser cannons. A pair of forward-facing short-range blaster cannons rounded out the AAT's energy-weapon complement. Contained in the forward edge of the tank's armored repulsorlift shroud were six energized shell projectile launchers capable of delivering specialized payloads. The tank contained three separate magazines from which to draw warheads: high-energy shells encased in a cocoon of plasma for incredible speed and penetration power, specialized armor-piercing warheads, and high-explosive 'bunker busting' shells. Built by Baktoid Armor Workshop, the AAT saw heavy use in the Battle of Naboo and the Clone Wars.\"\n",
      "\"Aavman Extravagance\",\"The manufacturer of such luxury vessels as the 11-S space yacht.\"\n",
      "\"aay'han\",\"A Mandoa word describing a bittersweet time of remembrance and celebration after the death of a family member. As a rule, Mandalorians who died were not buried, something reserved for the Mandalor. Most individuals were cremated (unless the body could not be recovered), and their ashes were strewn to the wind. To preserve their memories, deceased Mandalorians were remembered in nightly recitals of their names, an act that was believed to keep alive their existence as well as their memory. Sometimes the personal effects of deceased individuals were kept as well, especially their body armor.\"\n",
      "\"Aay'han\",\"The name given to the Deep Water-class freighter purchased by Kal Skirata and the clone commando Ordo on the planet Agamar during the Clone Wars. Skirata chose the name-a Mandoa word for a particular state of mind-to honor the bittersweet memories of his adoptive father, Munin, and the clone named Dov who died while training.\"\n",
      "\"AB-1 'floatcoach'\",\"An early prototype landspeeder that predated the more modern designs of the New Order. Palpatine kept several of these outdated vehicles within the hangar bay of his store-house facility in Mount Tantiss.\"\n",
      "\"AB-4\",\"A protocol droid programmed by the Rebel Alliance to serve as supply officer and bureaucrat for Advanced Base Baskarn.\"\n",
      "\"AB-6\",\"A worker droid with a female personality that was effectively 'adopted' into the Farn family on Tatooine.\"\n",
      "\"Abaarian\",\"The source of water shipments hijacked by pirates during the Dark Nest crisis. Jedi Knights Tesar Sebatyne and Lowbacca investigated these incidents.\"\n",
      "\"Abadaner\",\"A Corellian dissident arrested by the Galactic Alliance Guard on Coruscant based on a hunch by Ben Skywalker.\"\n",
      "\"A'baht, General Etahn\",\"Assigned as commander of the New Republic's Fifth Fleet because of experience leading his native Dornean Navy against Imperial forces, A'baht had a leathery face that flushed purple and eye folds that swelled and fanned out. His flagship was the fleet carrier Intrepid, and he declared the fleet operational following the live-fire exercise Hammerblow. Defying specific orders from Princess Leia Organa to stay out of the unexplored Koornacht Cluster, he sent the survey ship Astrolabe to Doornik-1142, hoping to get good military intelligence. Yevethan forces, which had been roiling the sector and undertaking xenophobic extermination campaigns, destroyed the Astrolabe. Ambassador Nil Spaar, viceroy of the Duskhan League, declared the incident an act of aggression by the New Republic and prepared to go to war. General A'baht then led the deployment of the Fifth Fleet to the cluster and blockaded Doornik-319, where the Yevetha were mounting their forces. When the fleet came under withering attack, General A'baht was forced to withdraw. Princess Leia Organa Solo then relieved him of command and substituted her husband, Han Solo.\"\n",
      "\"Aban\",\"An Imperial Navy officer, he oversaw the construction of an Imperial garrison on the watery world of Sedri when he held the rank of commander. Aban entered into an uneasy alliance with native renegade Karak in a bid to control the mysterious power source called the Golden Sun. Ultimately thwarted by Rebel agents, Aban emerged years later as captain of the Star Destroyer Bellicose in Grand Admiral Thrawn's forces.\"\n",
      "\"Abano\",\"A poor farmer on Aruza, he was the father of Manaroo, a tattooed dancing girl who eventually married the bounty hunter Dengar.\"\n",
      "\"Abanol\",\"A toxic world, second from the sun in the Beshqek system, within the Deep Core. the man's family for 10 generations and was considered by Xizor to be one of his most prized possessions.\"\n",
      "\"Ab'Bshingh\",\"The homeworld of the Farang and Waroot species.\"\n",
      "\"ABC scrambler\",\"A projectile weapon used by bounty hunters to cause severe disorientation. The Aural-Biological-Chemical scrambler fired a pod that emitted a broad spectrum of overwhelming sensory stimuli.\"\n",
      "\"Abdi-Badawzi\",\"A Twilek smuggling kingpin based on Socorro. An escaped slave and exile from Ryloth, Abdi-Badawzi was notable for his jet-black skin.\"\n",
      "\"Abek's Station\",\"A shadowport operated by the Nikto pirate Nim Abek on the Sisar Run.\"\n",
      "\"Aber\",\"A red dwarf star that was the primary star of the Abron system, containing the planet Alpheridies.\"\n",
      "\"Abersaith Canyon\",\"An immense natural formation on Corulag that contained an exotic bird preserve, the Abersaith Aviary, home to more than 20 million species of avians.\"\n",
      "\"Abesmi\",\"A remote island on the planet Kalee that served as an altar of worship for the native Kaleesh, who venerated General Grievous after his apparent death in the Huk War.\"\n",
      "\"Abhean\",\"This planet was home to the orbital construction site for the famed Jedi starship Chu'unthor.\"\n",
      "\"Abin-Ral-Xufush\",\"A ruthless Tiss'shar trader-turned-pirate who founded what became the Shadow Wing group of pirates.\"\n",
      "\"Abinyshi\",\"Slender intelligent reptilian aliens from Inysh with forked tails. Their population suffered after the Empire discovered valuable resources on their planet.\"\n",
      "\"Ablajeck sector\",\"An area of space that together with Moddell and Spar sectors made up the Inner Zuma region.\"\n",
      "\"Able-1707\",\"A Jango Fett-template clone trooper serving under Shaak Ti during the Clone Wars, unit A-1707 was stranded on an uncharted planet for over 20 years. He later assisted Rebel forces, including Luke Skywalker, when the Alliance attempted to establish a post on his planet. Adopting the more personalized name of Able, this trooper later served in the Alliance, helping in a mission to infiltrate an Imperial prison on Kalist VI.\"\n",
      "\"Able-472\",\"One of the Muunilinst 10 clone troopers who worked with General Obi-Wan Kenobi to defeat Durge and his IG lancer droid forces.\"\n",
      "\"Ables\",\"A Corellian trained in emergency procedures, she worked as a transportation engineer on Centerpoint Station in orbit between Talus and Tralus during the years following the war with the Yuuzhan Vong.\"\n",
      "\"Ab'Lon, Tereb\",\"A Bothan Rebel agent, he was incapacitated by Imperial agents and thrown to the Sarlacc in the Pit of Carkoon. He was survived by his astromech droid, R2-Z1, who carried vital information for the Alliance.\"\n",
      "\"abo\",\"Old Imperial slang for native inhabitants of a planet, often used in a derogatory manner.\"\n",
      "\"Abo Dreth\",\"A nitrogen-rich world in the Corporate Sector system of the same name whose small population included many Rebel Alliance sympathizers.\"\n",
      "\"Abolisher\",\"An Imperial Nebulon-B escort frigate.\"\n",
      "\"Abominor\",\"A mysterious and ancient species of sentient droids that waged war with the Silentium, another mechanical species. Their struggle in the distant past was said to have nearly wiped out all organic life in their native galaxy, and thus they were exiled. Some Abominors made it to this galaxy, and there were a few scattered accounts of sightings. The Great Heep of Biitu is probably the best-known specimen of Abominor life.\"\n",
      "\"Abonshee\",\"The native name for planet Masterhome, a lush forested planet inhabited by a sentient lizard species in the Fakir sector. Reekene's Roughnecks, a Rebel Alliance group, visited Abonshee to make diplomatic contact with the Anointed People during the Galactic Civil War.\"\n",
      "\"Aboukir\",\"A New Republic warship destroyed during the Battle of N'zoth.\"\n",
      "\"Abran system\",\"Site of the Abran Belt and the B'Knos mining colony, which was attacked by Ssi-ruuvi invaders.\"\n",
      "\"Abrax\",\"An aquamarine cognac with spicy vapors. The best vintages were produced during the Old Republic.\"\n",
      "\"Abraxas\",\"An abandoned world of spent mines, abandoned factories, and derelict ships, it served as a pirate base after the Battle of Endor.\"\n",
      "\"Abraxin\",\"This planet in the Tion Cluster was home to the marsh haunts, a species of Force-sensitive creatures.\"\n",
      "\"Abregado Moocher\",\"See Moocher.\"\n",
      "\"Abregado-rae\",\"A manufacturing- and trade-oriented planet in the Abregado system with a onetime primitive spaceport. After the birth of the New Republic, the spaceport cleaned up its act-at least to the untrained eye. Beneath the spit-shine and polish, the spaceport catered to smugglers and other disreputable types. An oppressive government allied to the New Republic ruled Abregado-rae's population of 40 million. Some nine years after the Battle of Yavin, the Abregado-rae leadership cut off all supplies to a clan of rebellious hill people, which created opportunities for ambitious smugglers. The planet was conquered by the Yuuzhan Vong during their invasion of the galaxy.\"\n",
      "\"Abregado system\",\"A planetary system located in the Borderland Regions, on the edge of the Core Worlds. During the Clone Wars, Plo Koon and his forces scouted the Abregado system for any signs of the mysterious Separatist vessel Malevolence. For years, the Abregado system was a militarized zone that separated the New Republic from the remnants of the Empire; it was controlled by neither but influenced by both. A vast and complex manufacturing infrastructure linked the system's planets, and the goods produced there were vitally important to the well-being of the New Republic.\"\n",
      "\"Abric\",\"A starship thief who worked with Niles Ferrier during the Thrawn crisis.\"\n",
      "\"Abridon\",\"A world of verdant mountains and emerald-green fields laced with shimmering rivers. It was allied to the Rebellion after the Battle of Hoth, only to be brutally recaptured by the Empire. Luke Skywalker was taken prisoner during the conquest, and rescued by Imperial defector Brenn Tantor.\"\n",
      "\"Abrihom\",\"A Rebel Alliance supply station platform destroyed during the Galactic Civil War.\"\n",
      "\"Abrion sector\",\"A 'bread basket' of sorts for the galaxy, the Abrion sector was home to over 200 agriworlds. Its secession during the Separatist crisis was a great blow to the Galactic Republic. The sector included sector capital Abrion Major as well as the planet Ukio, which became one of the top five producers of foodstuffs for the New Republic. When Ukio was captured by Grand Admiral Thrawn, it had serious repercussions for the sector.\"\n",
      "\"Abrogator\",\"An Imperial Dreadnaught dispatched to Saloch 2 to put down the Reslian Purge. Soontir Fel served aboard the Abrogator as part of the 37th Imperial Fighter Wing.\"\n",
      "\"Absit\",\"This planet, homeworld of the Yatir species, was once subjugated by the Empire.\"\n",
      "\"Absolutes\",\"The secret police of the Civilized, the totalitarian former rulers of Apsolon. The Absolutes used torture to enforce the aims of the wealthy minority. Their motto was: 'Absolute justice calls for absolute loyalty.' Despite their attempts, the Absolutes were unable to stop the acts of industrial sabotage committed by the Workers. Following the reform of Apsolon's government, the Absolutes went underground.\"\n",
      "\"Absolutists\",\"Staunchly independent Selonians who advocated the use of Selonia's planetary repulsors to secede from the New Republic. The Sacorrian Triad, backed by the New Republic, was able to dissolve the Absolutists.\"\n",
      "\"absorbmat\",\"Small, liquid-absorbent surface used as a coaster for beverages.\"\n",
      "\"Ab'Ugartte\",\"A reclusive and unfriendly alien species from parts unknown that counted Jak Sazz among its members.\"\n",
      "\"Abya, Sybegh\",\"A breedtash farmer on Sedsia who was also the principal Rebel Alliance contact on the planet, assisted by accounting droid A2-B4.\"\n",
      "\"Abyss, Naboo\",\"The general name used for the labyrinthine system of seas and waterways that began on Naboo's surface and permeated to its core. Though much of the water was placid and cool, dangerous pocket currents were created when fiery blasts from the planet's core heated the water to high temperatures. Extreme caution had to be used when traveling in the honeycomb-like passways of the inner planet given the massive creatures that lurked there.\"\n",
      "\"Abyss, the\",\"A common term that described many seemingly unfathomable and forbidding locales across the galaxy, including a deeply excavated mine on Vasha said to house the Vashan god of decay; a deep vertical slice of Imperial City that once contained the New Republic Intelligence agency code-named Mirage; and a particularly treacherous Podrace course on Ord Ibanna.\"\n",
      "\"Abyssin\",\"This primitive and violent species inhabited the occasionally fertile planet Byss in the binary star system of Byss and Abyss. (Byss had the same name as a distant planet that was used as a retreat by Emperor Palpatine.) At about 2 meters tall, the hulking, humanoid Abyssin had long limbs and a single large eye dominating greenish tan foreheads. Because they healed quickly and could regenerate any body part, this nomadic species condoned a high degree of physical violence since the consequences were short lasting. Offworld, they were often hired as petty thugs.\"\n",
      "\"Abyssin grafting patch\",\"A medical supply from Kirgalis Pharmaceutical Exports that used specially harvested regenerative cells from Abyssin biochemistry to promote rapid growth of new skin cells.\"\n",
      "\"ACI surveillance droid\",\"A mobile and semi-intelligent spherical surveillance holoc-am droid nicknamed the spy-eye.\"\n",
      "\"Academy, the\",\"A Galactic Republic-era elite educational and training institution that turned unseasoned youths into highly trained members of the Exploration, Military, and Merchant Services, the Academy had numerous campuses spread across the galaxy. Under Emperor Palpatine's New Order, the Academy became a training ground for nonclone Imperial officers, especially Raithal Academy in the Core region. Under the New Republic, the Academy was rebuilt to regain past glory.\"\n",
      "\"Acamma, Veril\",\"A military leader on Sucharme, she led an armed resistance movement against the invading Trade Federation that eventually drove it off the planet.\"\n",
      "\"ACC-7\",\"This series of small assassin droids, developed by Arakyd Industries, was popular among Imperial law enforcement and undercover operatives. The hovering spherical droids contained four retractable arms that extended to reveal heavy-duty vibroblades. Use of the ACC-7 was outlawed by the New Republic, but statutes against them were loosened so they could be used against the invading Yuuzhan Vong.\"\n",
      "\"accarrgm\",\"A strong liquor favored by Wookiees.\"\n",
      "\"acceleration chair, acceleration couch\",\"A generic term for g-force-absorbing seats found aboard starships.\"\n",
      "\"acceleration compensator\",\"A device that generated a type of artificial gravity and helped neutralize the effects of accelerating to high speed aboard medium- and larger-sized spacecraft such as the Millennium Falcon.\"\n",
      "\"acceleration facility\",\"A term describing various facilities constructed by the hives of the Colony to assist with the process of turning beings into Joiners. Many of these structures were found on the planets of the Utegetu Nebula, after the Colony's hives were relocated there following the Qoribu crisis. Most beings brought to these facilities were criminals such as smugglers and pirates, who could be turned to work for the Gorog.\"\n",
      "\"acceleration straps\",\"These passenger-safety harnesses were usually built into the seats of spacecraft to restrain passengers during takeoffs, landings, and violent maneuvers.\"\n",
      "\"Acceptance\",\"A Republic Consular-class cruiser that served as Jedi Master Dooku's flagship during the A-Cee mission to rid Galidraan of Mandalorian forces. The Acceptance was destroyed in battle in the Yinchorri system, though crew members Maoi Madakor and Antidar Williams were able to escape.\"\n",
      "\"Access Chute\",\"This kilometers-long pathway snaked through a grid of decaying cities and tall docking towers on the spaceport moon Nar Shaddaa. Its entrance masked by a bright advertising holoscreen, the Chute led to the repair facility of an old buddy of Han Solo, Shug Ninx.\"\n",
      "\"accipiptero\",\"The largest flying reptile native to Dagobah.\"\n",
      "\"Acclamator-class assault ship\",\"Massive transport ships used by the Grand Army of the Republic during the Clone Wars. These wedge-shaped Republic assault ships were built in secret in the shipyards of Rothana. Though not designed specifically for ship-to-ship combat, Acclamators were more than capable of holding their own against smaller Separatist cruisers. Subsequent models in the series were more focused on planetary bombardment missions. Eventually, they were replaced by more modern and capable Imperial-era warships.\"\n",
      "\"Accolux Township\",\"This Yedagon city was supposedly attacked and destroyed by the Lords of Dismay Flightknife during the civil war that broke out on Adumar. In reality, reports depicting the battle were faked in an effort to keep the Empire from learning that the Adumari had sided with the New Republic.\"\n",
      "\"Accu, Paddy\",\"An older human at the time of the Clone Wars, he served as retreat caretaker in the Lake Country of Naboo. Paddy Accu drove the gondola speeder that brought Padmé Amidala and Anakin Skywalker to the lake retreat.\"\n",
      "\"accu-accelerator\",\"Part of the ignition system found in many starship sublight engine systems.\"\n",
      "\"Accuser\",\"See Emancipator.\"\n",
      "\"Accutronics\",\"A leading droid manufacturer and early forerunner in the marketing of droids to families with young children. It was formerly a subsidiary of Industrial Automaton.\"\n",
      "\"Ace-6\",\"Cybot Galactica's droid brain unit, found aboard the automated TIE/D droid starfighter.\"\n",
      "\"A-Cee\",\"A chrome-plated protocol droid belonging to the Rebel Intelligence agent Candice Ondi. A-Cee's recordings of an Imperial massacre on Sulon convinced Kyle Katarn to join the Rebellion. Programmed to self-destruct if discovered by the Empire, A-Cee detonated aboard an Imperial yacht, killing Governor Donar.\"\n",
      "\"Ace Entertainment Corporation\",\"The parent company of a number of upscale gambling establishments, including the Ace of Sabres on Kluistar.\"\n",
      "\"acertron\",\"This flexible heavy alloy, cryogenically tempered to add strength, was used in the chest carapace of super battle droids.\"\n",
      "\"Ace Squadron\",\"Pash Cracken's A-wing squadron that served in the Battle of Thyferra.\"\n",
      "\"Acey\",\"A thief and friend of Dexter Jettster.\"\n",
      "\"Ac'fren Spur\",\"A little-known 'side' path of the Sisar Run that connected the Si'Klaata Cluster with the Weequay homeworld of Sriluur.\"\n",
      "\"Acherin\",\"Jedi Master Garen Muln led Republic forces on Acherin during the devastating fighting that occurred there in the Clone Wars. When the Empire came to power, Separatist holdouts formed a short-lived underground resistance on Acherin. Obi-Wan Kenobi, Ferus Olin, and Trever Flume briefly worked with the resistance during their time on Acherin.\"\n",
      "\"Achillea\",\"A semi-tropical world of great beauty that was one of the principal planets controlled by House Cadriaan in the Tapani sector.\"\n",
      "\"Achtnak Turbine Station\",\"A TIE fighter launch base hidden within the atmosphere of the gas giant Yavin. After the destruction of the first Death Star, Baron Orman Tagge led an operation there that harassed the Rebels blockaded on Yavin 4. The station used a massive turbine to open a 'storm corridor' within Yavin's turbulent atmosphere, allowing the launch and receipt of TIE fighters. Luke Skywalker was able to destroy the station.\"\n"
     ]
    }
   ],
   "source": [
    "print(response.text.strip('\\n'))"
   ]
  },
  {
   "cell_type": "code",
   "execution_count": 26,
   "id": "28e6f1d7",
   "metadata": {},
   "outputs": [
    {
     "name": "stdout",
     "output_type": "stream",
     "text": [
      "\n",
      "CSV data successfully written to enciclopedia.csv\n"
     ]
    }
   ],
   "source": [
    "import csv\n",
    "csv_data_string = response.text\n",
    "#csv_data_string = response.text[response.text.find('```csv')+7:response.text.rfind('```')-2]\n",
    "#csv_data_string = response.text.split('```')[1]\n",
    "#csv_data_string.rstrip('\\n').replace('csv','')\n",
    "\n",
    "file_name = \"enciclopedia.csv\"\n",
    "\n",
    "try:\n",
    "    with open(file_name, 'w', newline='', encoding='utf-8') as file:\n",
    "        file.write(csv_data_string)\n",
    "    print(f\"\\nCSV data successfully written to {file_name}\")\n",
    "except IOError as e:\n",
    "    print(f\"Error writing file {file_name}: {e}\")"
   ]
  }
 ],
 "metadata": {
  "kernelspec": {
   "display_name": "torch_env",
   "language": "python",
   "name": "python3"
  },
  "language_info": {
   "codemirror_mode": {
    "name": "ipython",
    "version": 3
   },
   "file_extension": ".py",
   "mimetype": "text/x-python",
   "name": "python",
   "nbconvert_exporter": "python",
   "pygments_lexer": "ipython3",
   "version": "3.12.3"
  }
 },
 "nbformat": 4,
 "nbformat_minor": 5
}
